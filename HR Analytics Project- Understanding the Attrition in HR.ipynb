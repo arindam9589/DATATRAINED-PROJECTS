{
 "cells": [
  {
   "cell_type": "code",
   "execution_count": 91,
   "metadata": {},
   "outputs": [],
   "source": [
    "import warnings\n",
    "warnings.simplefilter(\"ignore\")\n",
    "import pickle\n",
    "import joblib\n",
    "\n",
    "import numpy as np\n",
    "import pandas as pd\n",
    "import seaborn as sns\n",
    "import matplotlib.pyplot as plt\n",
    "from math import sqrt\n",
    "import scipy.stats as stats\n",
    "from scipy.stats import zscore\n",
    "\n",
    "from sklearn.preprocessing import PowerTransformer\n",
    "from sklearn.model_selection import train_test_split\n",
    "from sklearn.linear_model import LinearRegression\n",
    "from sklearn.svm import SVR\n",
    "from sklearn.tree import DecisionTreeRegressor\n",
    "from sklearn.ensemble import RandomForestRegressor\n",
    "from sklearn.neighbors import KNeighborsRegressor\n",
    "\n",
    "from sklearn.metrics import r2_score\n",
    "from sklearn.metrics import mean_squared_error\n",
    "from sklearn.model_selection import cross_val_score\n",
    "from sklearn.model_selection import RandomizedSearchCV"
   ]
  },
  {
   "cell_type": "markdown",
   "metadata": {},
   "source": [
    "## 1.  Data Collection"
   ]
  },
  {
   "cell_type": "markdown",
   "metadata": {},
   "source": [
    "- Source: Kaggle\n",
    "- Data: IBM HR Analytics dataset (synthetically generated)\n",
    "  https://www.kaggle.com/pavansubhasht/ibm-hr-analytics-attrition-dataset/home\n",
    "- License: \n",
    "    *  Database: https://opendatacommons.org/licenses/odbl/1.0/\n",
    "    *  Contents: https://opendatacommons.org/licenses/dbcl/1.0/"
   ]
  },
  {
   "cell_type": "markdown",
   "metadata": {},
   "source": [
    "#### Rule of thumb\n",
    "* Know all the available dataset for the problem (database/ internet/ third party etc) . Dataset must be reliable and   authentic.\n",
    "* Extract data in a format that can be used\n",
    "* Required Skills for data extraction in general(mostly used and not specific to the pattern):\n",
    "   - Distributed Storage: Hadoop, Apache Spark.\n",
    "   - Database Management: MySQL, PostgresSQL, MongoDB.\n",
    "   - Know to querying Relational Databases and retrieve unstructured Data like text, videos, audio files, documents."
   ]
  },
  {
   "cell_type": "markdown",
   "metadata": {},
   "source": [
    "#### Download dataset "
   ]
  },
  {
   "cell_type": "code",
   "execution_count": 92,
   "metadata": {},
   "outputs": [
    {
     "data": {
      "text/html": [
       "<div>\n",
       "<style scoped>\n",
       "    .dataframe tbody tr th:only-of-type {\n",
       "        vertical-align: middle;\n",
       "    }\n",
       "\n",
       "    .dataframe tbody tr th {\n",
       "        vertical-align: top;\n",
       "    }\n",
       "\n",
       "    .dataframe thead th {\n",
       "        text-align: right;\n",
       "    }\n",
       "</style>\n",
       "<table border=\"1\" class=\"dataframe\">\n",
       "  <thead>\n",
       "    <tr style=\"text-align: right;\">\n",
       "      <th></th>\n",
       "      <th>Age</th>\n",
       "      <th>Attrition</th>\n",
       "      <th>BusinessTravel</th>\n",
       "      <th>DailyRate</th>\n",
       "      <th>Department</th>\n",
       "      <th>DistanceFromHome</th>\n",
       "      <th>Education</th>\n",
       "      <th>EducationField</th>\n",
       "      <th>EmployeeCount</th>\n",
       "      <th>EmployeeNumber</th>\n",
       "      <th>...</th>\n",
       "      <th>RelationshipSatisfaction</th>\n",
       "      <th>StandardHours</th>\n",
       "      <th>StockOptionLevel</th>\n",
       "      <th>TotalWorkingYears</th>\n",
       "      <th>TrainingTimesLastYear</th>\n",
       "      <th>WorkLifeBalance</th>\n",
       "      <th>YearsAtCompany</th>\n",
       "      <th>YearsInCurrentRole</th>\n",
       "      <th>YearsSinceLastPromotion</th>\n",
       "      <th>YearsWithCurrManager</th>\n",
       "    </tr>\n",
       "  </thead>\n",
       "  <tbody>\n",
       "    <tr>\n",
       "      <th>0</th>\n",
       "      <td>41</td>\n",
       "      <td>Yes</td>\n",
       "      <td>Travel_Rarely</td>\n",
       "      <td>1102</td>\n",
       "      <td>Sales</td>\n",
       "      <td>1</td>\n",
       "      <td>2</td>\n",
       "      <td>Life Sciences</td>\n",
       "      <td>1</td>\n",
       "      <td>1</td>\n",
       "      <td>...</td>\n",
       "      <td>1</td>\n",
       "      <td>80</td>\n",
       "      <td>0</td>\n",
       "      <td>8</td>\n",
       "      <td>0</td>\n",
       "      <td>1</td>\n",
       "      <td>6</td>\n",
       "      <td>4</td>\n",
       "      <td>0</td>\n",
       "      <td>5</td>\n",
       "    </tr>\n",
       "    <tr>\n",
       "      <th>1</th>\n",
       "      <td>49</td>\n",
       "      <td>No</td>\n",
       "      <td>Travel_Frequently</td>\n",
       "      <td>279</td>\n",
       "      <td>Research &amp; Development</td>\n",
       "      <td>8</td>\n",
       "      <td>1</td>\n",
       "      <td>Life Sciences</td>\n",
       "      <td>1</td>\n",
       "      <td>2</td>\n",
       "      <td>...</td>\n",
       "      <td>4</td>\n",
       "      <td>80</td>\n",
       "      <td>1</td>\n",
       "      <td>10</td>\n",
       "      <td>3</td>\n",
       "      <td>3</td>\n",
       "      <td>10</td>\n",
       "      <td>7</td>\n",
       "      <td>1</td>\n",
       "      <td>7</td>\n",
       "    </tr>\n",
       "    <tr>\n",
       "      <th>2</th>\n",
       "      <td>37</td>\n",
       "      <td>Yes</td>\n",
       "      <td>Travel_Rarely</td>\n",
       "      <td>1373</td>\n",
       "      <td>Research &amp; Development</td>\n",
       "      <td>2</td>\n",
       "      <td>2</td>\n",
       "      <td>Other</td>\n",
       "      <td>1</td>\n",
       "      <td>4</td>\n",
       "      <td>...</td>\n",
       "      <td>2</td>\n",
       "      <td>80</td>\n",
       "      <td>0</td>\n",
       "      <td>7</td>\n",
       "      <td>3</td>\n",
       "      <td>3</td>\n",
       "      <td>0</td>\n",
       "      <td>0</td>\n",
       "      <td>0</td>\n",
       "      <td>0</td>\n",
       "    </tr>\n",
       "    <tr>\n",
       "      <th>3</th>\n",
       "      <td>33</td>\n",
       "      <td>No</td>\n",
       "      <td>Travel_Frequently</td>\n",
       "      <td>1392</td>\n",
       "      <td>Research &amp; Development</td>\n",
       "      <td>3</td>\n",
       "      <td>4</td>\n",
       "      <td>Life Sciences</td>\n",
       "      <td>1</td>\n",
       "      <td>5</td>\n",
       "      <td>...</td>\n",
       "      <td>3</td>\n",
       "      <td>80</td>\n",
       "      <td>0</td>\n",
       "      <td>8</td>\n",
       "      <td>3</td>\n",
       "      <td>3</td>\n",
       "      <td>8</td>\n",
       "      <td>7</td>\n",
       "      <td>3</td>\n",
       "      <td>0</td>\n",
       "    </tr>\n",
       "    <tr>\n",
       "      <th>4</th>\n",
       "      <td>27</td>\n",
       "      <td>No</td>\n",
       "      <td>Travel_Rarely</td>\n",
       "      <td>591</td>\n",
       "      <td>Research &amp; Development</td>\n",
       "      <td>2</td>\n",
       "      <td>1</td>\n",
       "      <td>Medical</td>\n",
       "      <td>1</td>\n",
       "      <td>7</td>\n",
       "      <td>...</td>\n",
       "      <td>4</td>\n",
       "      <td>80</td>\n",
       "      <td>1</td>\n",
       "      <td>6</td>\n",
       "      <td>3</td>\n",
       "      <td>3</td>\n",
       "      <td>2</td>\n",
       "      <td>2</td>\n",
       "      <td>2</td>\n",
       "      <td>2</td>\n",
       "    </tr>\n",
       "    <tr>\n",
       "      <th>...</th>\n",
       "      <td>...</td>\n",
       "      <td>...</td>\n",
       "      <td>...</td>\n",
       "      <td>...</td>\n",
       "      <td>...</td>\n",
       "      <td>...</td>\n",
       "      <td>...</td>\n",
       "      <td>...</td>\n",
       "      <td>...</td>\n",
       "      <td>...</td>\n",
       "      <td>...</td>\n",
       "      <td>...</td>\n",
       "      <td>...</td>\n",
       "      <td>...</td>\n",
       "      <td>...</td>\n",
       "      <td>...</td>\n",
       "      <td>...</td>\n",
       "      <td>...</td>\n",
       "      <td>...</td>\n",
       "      <td>...</td>\n",
       "      <td>...</td>\n",
       "    </tr>\n",
       "    <tr>\n",
       "      <th>1465</th>\n",
       "      <td>36</td>\n",
       "      <td>No</td>\n",
       "      <td>Travel_Frequently</td>\n",
       "      <td>884</td>\n",
       "      <td>Research &amp; Development</td>\n",
       "      <td>23</td>\n",
       "      <td>2</td>\n",
       "      <td>Medical</td>\n",
       "      <td>1</td>\n",
       "      <td>2061</td>\n",
       "      <td>...</td>\n",
       "      <td>3</td>\n",
       "      <td>80</td>\n",
       "      <td>1</td>\n",
       "      <td>17</td>\n",
       "      <td>3</td>\n",
       "      <td>3</td>\n",
       "      <td>5</td>\n",
       "      <td>2</td>\n",
       "      <td>0</td>\n",
       "      <td>3</td>\n",
       "    </tr>\n",
       "    <tr>\n",
       "      <th>1466</th>\n",
       "      <td>39</td>\n",
       "      <td>No</td>\n",
       "      <td>Travel_Rarely</td>\n",
       "      <td>613</td>\n",
       "      <td>Research &amp; Development</td>\n",
       "      <td>6</td>\n",
       "      <td>1</td>\n",
       "      <td>Medical</td>\n",
       "      <td>1</td>\n",
       "      <td>2062</td>\n",
       "      <td>...</td>\n",
       "      <td>1</td>\n",
       "      <td>80</td>\n",
       "      <td>1</td>\n",
       "      <td>9</td>\n",
       "      <td>5</td>\n",
       "      <td>3</td>\n",
       "      <td>7</td>\n",
       "      <td>7</td>\n",
       "      <td>1</td>\n",
       "      <td>7</td>\n",
       "    </tr>\n",
       "    <tr>\n",
       "      <th>1467</th>\n",
       "      <td>27</td>\n",
       "      <td>No</td>\n",
       "      <td>Travel_Rarely</td>\n",
       "      <td>155</td>\n",
       "      <td>Research &amp; Development</td>\n",
       "      <td>4</td>\n",
       "      <td>3</td>\n",
       "      <td>Life Sciences</td>\n",
       "      <td>1</td>\n",
       "      <td>2064</td>\n",
       "      <td>...</td>\n",
       "      <td>2</td>\n",
       "      <td>80</td>\n",
       "      <td>1</td>\n",
       "      <td>6</td>\n",
       "      <td>0</td>\n",
       "      <td>3</td>\n",
       "      <td>6</td>\n",
       "      <td>2</td>\n",
       "      <td>0</td>\n",
       "      <td>3</td>\n",
       "    </tr>\n",
       "    <tr>\n",
       "      <th>1468</th>\n",
       "      <td>49</td>\n",
       "      <td>No</td>\n",
       "      <td>Travel_Frequently</td>\n",
       "      <td>1023</td>\n",
       "      <td>Sales</td>\n",
       "      <td>2</td>\n",
       "      <td>3</td>\n",
       "      <td>Medical</td>\n",
       "      <td>1</td>\n",
       "      <td>2065</td>\n",
       "      <td>...</td>\n",
       "      <td>4</td>\n",
       "      <td>80</td>\n",
       "      <td>0</td>\n",
       "      <td>17</td>\n",
       "      <td>3</td>\n",
       "      <td>2</td>\n",
       "      <td>9</td>\n",
       "      <td>6</td>\n",
       "      <td>0</td>\n",
       "      <td>8</td>\n",
       "    </tr>\n",
       "    <tr>\n",
       "      <th>1469</th>\n",
       "      <td>34</td>\n",
       "      <td>No</td>\n",
       "      <td>Travel_Rarely</td>\n",
       "      <td>628</td>\n",
       "      <td>Research &amp; Development</td>\n",
       "      <td>8</td>\n",
       "      <td>3</td>\n",
       "      <td>Medical</td>\n",
       "      <td>1</td>\n",
       "      <td>2068</td>\n",
       "      <td>...</td>\n",
       "      <td>1</td>\n",
       "      <td>80</td>\n",
       "      <td>0</td>\n",
       "      <td>6</td>\n",
       "      <td>3</td>\n",
       "      <td>4</td>\n",
       "      <td>4</td>\n",
       "      <td>3</td>\n",
       "      <td>1</td>\n",
       "      <td>2</td>\n",
       "    </tr>\n",
       "  </tbody>\n",
       "</table>\n",
       "<p>1470 rows × 35 columns</p>\n",
       "</div>"
      ],
      "text/plain": [
       "      Age Attrition     BusinessTravel  DailyRate              Department  \\\n",
       "0      41       Yes      Travel_Rarely       1102                   Sales   \n",
       "1      49        No  Travel_Frequently        279  Research & Development   \n",
       "2      37       Yes      Travel_Rarely       1373  Research & Development   \n",
       "3      33        No  Travel_Frequently       1392  Research & Development   \n",
       "4      27        No      Travel_Rarely        591  Research & Development   \n",
       "...   ...       ...                ...        ...                     ...   \n",
       "1465   36        No  Travel_Frequently        884  Research & Development   \n",
       "1466   39        No      Travel_Rarely        613  Research & Development   \n",
       "1467   27        No      Travel_Rarely        155  Research & Development   \n",
       "1468   49        No  Travel_Frequently       1023                   Sales   \n",
       "1469   34        No      Travel_Rarely        628  Research & Development   \n",
       "\n",
       "      DistanceFromHome  Education EducationField  EmployeeCount  \\\n",
       "0                    1          2  Life Sciences              1   \n",
       "1                    8          1  Life Sciences              1   \n",
       "2                    2          2          Other              1   \n",
       "3                    3          4  Life Sciences              1   \n",
       "4                    2          1        Medical              1   \n",
       "...                ...        ...            ...            ...   \n",
       "1465                23          2        Medical              1   \n",
       "1466                 6          1        Medical              1   \n",
       "1467                 4          3  Life Sciences              1   \n",
       "1468                 2          3        Medical              1   \n",
       "1469                 8          3        Medical              1   \n",
       "\n",
       "      EmployeeNumber  ...  RelationshipSatisfaction StandardHours  \\\n",
       "0                  1  ...                         1            80   \n",
       "1                  2  ...                         4            80   \n",
       "2                  4  ...                         2            80   \n",
       "3                  5  ...                         3            80   \n",
       "4                  7  ...                         4            80   \n",
       "...              ...  ...                       ...           ...   \n",
       "1465            2061  ...                         3            80   \n",
       "1466            2062  ...                         1            80   \n",
       "1467            2064  ...                         2            80   \n",
       "1468            2065  ...                         4            80   \n",
       "1469            2068  ...                         1            80   \n",
       "\n",
       "      StockOptionLevel  TotalWorkingYears  TrainingTimesLastYear  \\\n",
       "0                    0                  8                      0   \n",
       "1                    1                 10                      3   \n",
       "2                    0                  7                      3   \n",
       "3                    0                  8                      3   \n",
       "4                    1                  6                      3   \n",
       "...                ...                ...                    ...   \n",
       "1465                 1                 17                      3   \n",
       "1466                 1                  9                      5   \n",
       "1467                 1                  6                      0   \n",
       "1468                 0                 17                      3   \n",
       "1469                 0                  6                      3   \n",
       "\n",
       "     WorkLifeBalance  YearsAtCompany YearsInCurrentRole  \\\n",
       "0                  1               6                  4   \n",
       "1                  3              10                  7   \n",
       "2                  3               0                  0   \n",
       "3                  3               8                  7   \n",
       "4                  3               2                  2   \n",
       "...              ...             ...                ...   \n",
       "1465               3               5                  2   \n",
       "1466               3               7                  7   \n",
       "1467               3               6                  2   \n",
       "1468               2               9                  6   \n",
       "1469               4               4                  3   \n",
       "\n",
       "      YearsSinceLastPromotion  YearsWithCurrManager  \n",
       "0                           0                     5  \n",
       "1                           1                     7  \n",
       "2                           0                     0  \n",
       "3                           3                     0  \n",
       "4                           2                     2  \n",
       "...                       ...                   ...  \n",
       "1465                        0                     3  \n",
       "1466                        1                     7  \n",
       "1467                        0                     3  \n",
       "1468                        0                     8  \n",
       "1469                        1                     2  \n",
       "\n",
       "[1470 rows x 35 columns]"
      ]
     },
     "execution_count": 92,
     "metadata": {},
     "output_type": "execute_result"
    }
   ],
   "source": [
    "df = pd.read_csv(\"WA_Fn-UseC_-HR-Employee-Attrition.csv\")\n",
    "df"
   ]
  },
  {
   "cell_type": "code",
   "execution_count": 93,
   "metadata": {},
   "outputs": [
    {
     "data": {
      "text/plain": [
       "Index(['Age', 'Attrition', 'BusinessTravel', 'DailyRate', 'Department',\n",
       "       'DistanceFromHome', 'Education', 'EducationField', 'EmployeeCount',\n",
       "       'EmployeeNumber', 'EnvironmentSatisfaction', 'Gender', 'HourlyRate',\n",
       "       'JobInvolvement', 'JobLevel', 'JobRole', 'JobSatisfaction',\n",
       "       'MaritalStatus', 'MonthlyIncome', 'MonthlyRate', 'NumCompaniesWorked',\n",
       "       'Over18', 'OverTime', 'PercentSalaryHike', 'PerformanceRating',\n",
       "       'RelationshipSatisfaction', 'StandardHours', 'StockOptionLevel',\n",
       "       'TotalWorkingYears', 'TrainingTimesLastYear', 'WorkLifeBalance',\n",
       "       'YearsAtCompany', 'YearsInCurrentRole', 'YearsSinceLastPromotion',\n",
       "       'YearsWithCurrManager'],\n",
       "      dtype='object')"
      ]
     },
     "execution_count": 93,
     "metadata": {},
     "output_type": "execute_result"
    }
   ],
   "source": [
    "#Get list of columns in the dataset\n",
    "df.columns"
   ]
  },
  {
   "cell_type": "code",
   "execution_count": 94,
   "metadata": {},
   "outputs": [],
   "source": [
    "#Dropping columns (intution)\n",
    "columns = ['DailyRate', 'EducationField', 'EmployeeCount', 'EmployeeNumber', 'HourlyRate', 'MonthlyRate',\n",
    "        'Over18', 'RelationshipSatisfaction', 'StandardHours']\n",
    "df.drop(columns, inplace=True, axis=1)"
   ]
  },
  {
   "cell_type": "markdown",
   "metadata": {},
   "source": [
    "### 1.1 Get description of data"
   ]
  },
  {
   "cell_type": "markdown",
   "metadata": {},
   "source": [
    "Generates descriptive statistics that summarize the central tendency, dispersion and shape of a dataset’s distribution, excluding NaN values.\n",
    "\n",
    "Reference link: https://pandas.pydata.org/pandas-docs/stable/generated/pandas.DataFrame.describe.html"
   ]
  },
  {
   "cell_type": "code",
   "execution_count": 95,
   "metadata": {},
   "outputs": [
    {
     "data": {
      "text/html": [
       "<div>\n",
       "<style scoped>\n",
       "    .dataframe tbody tr th:only-of-type {\n",
       "        vertical-align: middle;\n",
       "    }\n",
       "\n",
       "    .dataframe tbody tr th {\n",
       "        vertical-align: top;\n",
       "    }\n",
       "\n",
       "    .dataframe thead th {\n",
       "        text-align: right;\n",
       "    }\n",
       "</style>\n",
       "<table border=\"1\" class=\"dataframe\">\n",
       "  <thead>\n",
       "    <tr style=\"text-align: right;\">\n",
       "      <th></th>\n",
       "      <th>Age</th>\n",
       "      <th>DistanceFromHome</th>\n",
       "      <th>Education</th>\n",
       "      <th>EnvironmentSatisfaction</th>\n",
       "      <th>JobInvolvement</th>\n",
       "      <th>JobLevel</th>\n",
       "      <th>JobSatisfaction</th>\n",
       "      <th>MonthlyIncome</th>\n",
       "      <th>NumCompaniesWorked</th>\n",
       "      <th>PercentSalaryHike</th>\n",
       "      <th>PerformanceRating</th>\n",
       "      <th>StockOptionLevel</th>\n",
       "      <th>TotalWorkingYears</th>\n",
       "      <th>TrainingTimesLastYear</th>\n",
       "      <th>WorkLifeBalance</th>\n",
       "      <th>YearsAtCompany</th>\n",
       "      <th>YearsInCurrentRole</th>\n",
       "      <th>YearsSinceLastPromotion</th>\n",
       "      <th>YearsWithCurrManager</th>\n",
       "    </tr>\n",
       "  </thead>\n",
       "  <tbody>\n",
       "    <tr>\n",
       "      <th>count</th>\n",
       "      <td>1470.000000</td>\n",
       "      <td>1470.000000</td>\n",
       "      <td>1470.000000</td>\n",
       "      <td>1470.000000</td>\n",
       "      <td>1470.000000</td>\n",
       "      <td>1470.000000</td>\n",
       "      <td>1470.000000</td>\n",
       "      <td>1470.000000</td>\n",
       "      <td>1470.000000</td>\n",
       "      <td>1470.000000</td>\n",
       "      <td>1470.000000</td>\n",
       "      <td>1470.000000</td>\n",
       "      <td>1470.000000</td>\n",
       "      <td>1470.000000</td>\n",
       "      <td>1470.000000</td>\n",
       "      <td>1470.000000</td>\n",
       "      <td>1470.000000</td>\n",
       "      <td>1470.000000</td>\n",
       "      <td>1470.000000</td>\n",
       "    </tr>\n",
       "    <tr>\n",
       "      <th>mean</th>\n",
       "      <td>36.923810</td>\n",
       "      <td>9.192517</td>\n",
       "      <td>2.912925</td>\n",
       "      <td>2.721769</td>\n",
       "      <td>2.729932</td>\n",
       "      <td>2.063946</td>\n",
       "      <td>2.728571</td>\n",
       "      <td>6502.931293</td>\n",
       "      <td>2.693197</td>\n",
       "      <td>15.209524</td>\n",
       "      <td>3.153741</td>\n",
       "      <td>0.793878</td>\n",
       "      <td>11.279592</td>\n",
       "      <td>2.799320</td>\n",
       "      <td>2.761224</td>\n",
       "      <td>7.008163</td>\n",
       "      <td>4.229252</td>\n",
       "      <td>2.187755</td>\n",
       "      <td>4.123129</td>\n",
       "    </tr>\n",
       "    <tr>\n",
       "      <th>std</th>\n",
       "      <td>9.135373</td>\n",
       "      <td>8.106864</td>\n",
       "      <td>1.024165</td>\n",
       "      <td>1.093082</td>\n",
       "      <td>0.711561</td>\n",
       "      <td>1.106940</td>\n",
       "      <td>1.102846</td>\n",
       "      <td>4707.956783</td>\n",
       "      <td>2.498009</td>\n",
       "      <td>3.659938</td>\n",
       "      <td>0.360824</td>\n",
       "      <td>0.852077</td>\n",
       "      <td>7.780782</td>\n",
       "      <td>1.289271</td>\n",
       "      <td>0.706476</td>\n",
       "      <td>6.126525</td>\n",
       "      <td>3.623137</td>\n",
       "      <td>3.222430</td>\n",
       "      <td>3.568136</td>\n",
       "    </tr>\n",
       "    <tr>\n",
       "      <th>min</th>\n",
       "      <td>18.000000</td>\n",
       "      <td>1.000000</td>\n",
       "      <td>1.000000</td>\n",
       "      <td>1.000000</td>\n",
       "      <td>1.000000</td>\n",
       "      <td>1.000000</td>\n",
       "      <td>1.000000</td>\n",
       "      <td>1009.000000</td>\n",
       "      <td>0.000000</td>\n",
       "      <td>11.000000</td>\n",
       "      <td>3.000000</td>\n",
       "      <td>0.000000</td>\n",
       "      <td>0.000000</td>\n",
       "      <td>0.000000</td>\n",
       "      <td>1.000000</td>\n",
       "      <td>0.000000</td>\n",
       "      <td>0.000000</td>\n",
       "      <td>0.000000</td>\n",
       "      <td>0.000000</td>\n",
       "    </tr>\n",
       "    <tr>\n",
       "      <th>25%</th>\n",
       "      <td>30.000000</td>\n",
       "      <td>2.000000</td>\n",
       "      <td>2.000000</td>\n",
       "      <td>2.000000</td>\n",
       "      <td>2.000000</td>\n",
       "      <td>1.000000</td>\n",
       "      <td>2.000000</td>\n",
       "      <td>2911.000000</td>\n",
       "      <td>1.000000</td>\n",
       "      <td>12.000000</td>\n",
       "      <td>3.000000</td>\n",
       "      <td>0.000000</td>\n",
       "      <td>6.000000</td>\n",
       "      <td>2.000000</td>\n",
       "      <td>2.000000</td>\n",
       "      <td>3.000000</td>\n",
       "      <td>2.000000</td>\n",
       "      <td>0.000000</td>\n",
       "      <td>2.000000</td>\n",
       "    </tr>\n",
       "    <tr>\n",
       "      <th>50%</th>\n",
       "      <td>36.000000</td>\n",
       "      <td>7.000000</td>\n",
       "      <td>3.000000</td>\n",
       "      <td>3.000000</td>\n",
       "      <td>3.000000</td>\n",
       "      <td>2.000000</td>\n",
       "      <td>3.000000</td>\n",
       "      <td>4919.000000</td>\n",
       "      <td>2.000000</td>\n",
       "      <td>14.000000</td>\n",
       "      <td>3.000000</td>\n",
       "      <td>1.000000</td>\n",
       "      <td>10.000000</td>\n",
       "      <td>3.000000</td>\n",
       "      <td>3.000000</td>\n",
       "      <td>5.000000</td>\n",
       "      <td>3.000000</td>\n",
       "      <td>1.000000</td>\n",
       "      <td>3.000000</td>\n",
       "    </tr>\n",
       "    <tr>\n",
       "      <th>75%</th>\n",
       "      <td>43.000000</td>\n",
       "      <td>14.000000</td>\n",
       "      <td>4.000000</td>\n",
       "      <td>4.000000</td>\n",
       "      <td>3.000000</td>\n",
       "      <td>3.000000</td>\n",
       "      <td>4.000000</td>\n",
       "      <td>8379.000000</td>\n",
       "      <td>4.000000</td>\n",
       "      <td>18.000000</td>\n",
       "      <td>3.000000</td>\n",
       "      <td>1.000000</td>\n",
       "      <td>15.000000</td>\n",
       "      <td>3.000000</td>\n",
       "      <td>3.000000</td>\n",
       "      <td>9.000000</td>\n",
       "      <td>7.000000</td>\n",
       "      <td>3.000000</td>\n",
       "      <td>7.000000</td>\n",
       "    </tr>\n",
       "    <tr>\n",
       "      <th>max</th>\n",
       "      <td>60.000000</td>\n",
       "      <td>29.000000</td>\n",
       "      <td>5.000000</td>\n",
       "      <td>4.000000</td>\n",
       "      <td>4.000000</td>\n",
       "      <td>5.000000</td>\n",
       "      <td>4.000000</td>\n",
       "      <td>19999.000000</td>\n",
       "      <td>9.000000</td>\n",
       "      <td>25.000000</td>\n",
       "      <td>4.000000</td>\n",
       "      <td>3.000000</td>\n",
       "      <td>40.000000</td>\n",
       "      <td>6.000000</td>\n",
       "      <td>4.000000</td>\n",
       "      <td>40.000000</td>\n",
       "      <td>18.000000</td>\n",
       "      <td>15.000000</td>\n",
       "      <td>17.000000</td>\n",
       "    </tr>\n",
       "  </tbody>\n",
       "</table>\n",
       "</div>"
      ],
      "text/plain": [
       "               Age  DistanceFromHome    Education  EnvironmentSatisfaction  \\\n",
       "count  1470.000000       1470.000000  1470.000000              1470.000000   \n",
       "mean     36.923810          9.192517     2.912925                 2.721769   \n",
       "std       9.135373          8.106864     1.024165                 1.093082   \n",
       "min      18.000000          1.000000     1.000000                 1.000000   \n",
       "25%      30.000000          2.000000     2.000000                 2.000000   \n",
       "50%      36.000000          7.000000     3.000000                 3.000000   \n",
       "75%      43.000000         14.000000     4.000000                 4.000000   \n",
       "max      60.000000         29.000000     5.000000                 4.000000   \n",
       "\n",
       "       JobInvolvement     JobLevel  JobSatisfaction  MonthlyIncome  \\\n",
       "count     1470.000000  1470.000000      1470.000000    1470.000000   \n",
       "mean         2.729932     2.063946         2.728571    6502.931293   \n",
       "std          0.711561     1.106940         1.102846    4707.956783   \n",
       "min          1.000000     1.000000         1.000000    1009.000000   \n",
       "25%          2.000000     1.000000         2.000000    2911.000000   \n",
       "50%          3.000000     2.000000         3.000000    4919.000000   \n",
       "75%          3.000000     3.000000         4.000000    8379.000000   \n",
       "max          4.000000     5.000000         4.000000   19999.000000   \n",
       "\n",
       "       NumCompaniesWorked  PercentSalaryHike  PerformanceRating  \\\n",
       "count         1470.000000        1470.000000        1470.000000   \n",
       "mean             2.693197          15.209524           3.153741   \n",
       "std              2.498009           3.659938           0.360824   \n",
       "min              0.000000          11.000000           3.000000   \n",
       "25%              1.000000          12.000000           3.000000   \n",
       "50%              2.000000          14.000000           3.000000   \n",
       "75%              4.000000          18.000000           3.000000   \n",
       "max              9.000000          25.000000           4.000000   \n",
       "\n",
       "       StockOptionLevel  TotalWorkingYears  TrainingTimesLastYear  \\\n",
       "count       1470.000000        1470.000000            1470.000000   \n",
       "mean           0.793878          11.279592               2.799320   \n",
       "std            0.852077           7.780782               1.289271   \n",
       "min            0.000000           0.000000               0.000000   \n",
       "25%            0.000000           6.000000               2.000000   \n",
       "50%            1.000000          10.000000               3.000000   \n",
       "75%            1.000000          15.000000               3.000000   \n",
       "max            3.000000          40.000000               6.000000   \n",
       "\n",
       "       WorkLifeBalance  YearsAtCompany  YearsInCurrentRole  \\\n",
       "count      1470.000000     1470.000000         1470.000000   \n",
       "mean          2.761224        7.008163            4.229252   \n",
       "std           0.706476        6.126525            3.623137   \n",
       "min           1.000000        0.000000            0.000000   \n",
       "25%           2.000000        3.000000            2.000000   \n",
       "50%           3.000000        5.000000            3.000000   \n",
       "75%           3.000000        9.000000            7.000000   \n",
       "max           4.000000       40.000000           18.000000   \n",
       "\n",
       "       YearsSinceLastPromotion  YearsWithCurrManager  \n",
       "count              1470.000000           1470.000000  \n",
       "mean                  2.187755              4.123129  \n",
       "std                   3.222430              3.568136  \n",
       "min                   0.000000              0.000000  \n",
       "25%                   0.000000              2.000000  \n",
       "50%                   1.000000              3.000000  \n",
       "75%                   3.000000              7.000000  \n",
       "max                  15.000000             17.000000  "
      ]
     },
     "execution_count": 95,
     "metadata": {},
     "output_type": "execute_result"
    }
   ],
   "source": [
    "#This will give description only for numeric fields\n",
    "df.describe()"
   ]
  },
  {
   "cell_type": "code",
   "execution_count": 96,
   "metadata": {},
   "outputs": [
    {
     "data": {
      "text/html": [
       "<div>\n",
       "<style scoped>\n",
       "    .dataframe tbody tr th:only-of-type {\n",
       "        vertical-align: middle;\n",
       "    }\n",
       "\n",
       "    .dataframe tbody tr th {\n",
       "        vertical-align: top;\n",
       "    }\n",
       "\n",
       "    .dataframe thead th {\n",
       "        text-align: right;\n",
       "    }\n",
       "</style>\n",
       "<table border=\"1\" class=\"dataframe\">\n",
       "  <thead>\n",
       "    <tr style=\"text-align: right;\">\n",
       "      <th></th>\n",
       "      <th>Age</th>\n",
       "      <th>Attrition</th>\n",
       "      <th>BusinessTravel</th>\n",
       "      <th>Department</th>\n",
       "      <th>DistanceFromHome</th>\n",
       "      <th>Education</th>\n",
       "      <th>EnvironmentSatisfaction</th>\n",
       "      <th>Gender</th>\n",
       "      <th>JobInvolvement</th>\n",
       "      <th>JobLevel</th>\n",
       "      <th>...</th>\n",
       "      <th>PercentSalaryHike</th>\n",
       "      <th>PerformanceRating</th>\n",
       "      <th>StockOptionLevel</th>\n",
       "      <th>TotalWorkingYears</th>\n",
       "      <th>TrainingTimesLastYear</th>\n",
       "      <th>WorkLifeBalance</th>\n",
       "      <th>YearsAtCompany</th>\n",
       "      <th>YearsInCurrentRole</th>\n",
       "      <th>YearsSinceLastPromotion</th>\n",
       "      <th>YearsWithCurrManager</th>\n",
       "    </tr>\n",
       "  </thead>\n",
       "  <tbody>\n",
       "    <tr>\n",
       "      <th>count</th>\n",
       "      <td>1470.000000</td>\n",
       "      <td>1470</td>\n",
       "      <td>1470</td>\n",
       "      <td>1470</td>\n",
       "      <td>1470.000000</td>\n",
       "      <td>1470.000000</td>\n",
       "      <td>1470.000000</td>\n",
       "      <td>1470</td>\n",
       "      <td>1470.000000</td>\n",
       "      <td>1470.000000</td>\n",
       "      <td>...</td>\n",
       "      <td>1470.000000</td>\n",
       "      <td>1470.000000</td>\n",
       "      <td>1470.000000</td>\n",
       "      <td>1470.000000</td>\n",
       "      <td>1470.000000</td>\n",
       "      <td>1470.000000</td>\n",
       "      <td>1470.000000</td>\n",
       "      <td>1470.000000</td>\n",
       "      <td>1470.000000</td>\n",
       "      <td>1470.000000</td>\n",
       "    </tr>\n",
       "    <tr>\n",
       "      <th>unique</th>\n",
       "      <td>NaN</td>\n",
       "      <td>2</td>\n",
       "      <td>3</td>\n",
       "      <td>3</td>\n",
       "      <td>NaN</td>\n",
       "      <td>NaN</td>\n",
       "      <td>NaN</td>\n",
       "      <td>2</td>\n",
       "      <td>NaN</td>\n",
       "      <td>NaN</td>\n",
       "      <td>...</td>\n",
       "      <td>NaN</td>\n",
       "      <td>NaN</td>\n",
       "      <td>NaN</td>\n",
       "      <td>NaN</td>\n",
       "      <td>NaN</td>\n",
       "      <td>NaN</td>\n",
       "      <td>NaN</td>\n",
       "      <td>NaN</td>\n",
       "      <td>NaN</td>\n",
       "      <td>NaN</td>\n",
       "    </tr>\n",
       "    <tr>\n",
       "      <th>top</th>\n",
       "      <td>NaN</td>\n",
       "      <td>No</td>\n",
       "      <td>Travel_Rarely</td>\n",
       "      <td>Research &amp; Development</td>\n",
       "      <td>NaN</td>\n",
       "      <td>NaN</td>\n",
       "      <td>NaN</td>\n",
       "      <td>Male</td>\n",
       "      <td>NaN</td>\n",
       "      <td>NaN</td>\n",
       "      <td>...</td>\n",
       "      <td>NaN</td>\n",
       "      <td>NaN</td>\n",
       "      <td>NaN</td>\n",
       "      <td>NaN</td>\n",
       "      <td>NaN</td>\n",
       "      <td>NaN</td>\n",
       "      <td>NaN</td>\n",
       "      <td>NaN</td>\n",
       "      <td>NaN</td>\n",
       "      <td>NaN</td>\n",
       "    </tr>\n",
       "    <tr>\n",
       "      <th>freq</th>\n",
       "      <td>NaN</td>\n",
       "      <td>1233</td>\n",
       "      <td>1043</td>\n",
       "      <td>961</td>\n",
       "      <td>NaN</td>\n",
       "      <td>NaN</td>\n",
       "      <td>NaN</td>\n",
       "      <td>882</td>\n",
       "      <td>NaN</td>\n",
       "      <td>NaN</td>\n",
       "      <td>...</td>\n",
       "      <td>NaN</td>\n",
       "      <td>NaN</td>\n",
       "      <td>NaN</td>\n",
       "      <td>NaN</td>\n",
       "      <td>NaN</td>\n",
       "      <td>NaN</td>\n",
       "      <td>NaN</td>\n",
       "      <td>NaN</td>\n",
       "      <td>NaN</td>\n",
       "      <td>NaN</td>\n",
       "    </tr>\n",
       "    <tr>\n",
       "      <th>mean</th>\n",
       "      <td>36.923810</td>\n",
       "      <td>NaN</td>\n",
       "      <td>NaN</td>\n",
       "      <td>NaN</td>\n",
       "      <td>9.192517</td>\n",
       "      <td>2.912925</td>\n",
       "      <td>2.721769</td>\n",
       "      <td>NaN</td>\n",
       "      <td>2.729932</td>\n",
       "      <td>2.063946</td>\n",
       "      <td>...</td>\n",
       "      <td>15.209524</td>\n",
       "      <td>3.153741</td>\n",
       "      <td>0.793878</td>\n",
       "      <td>11.279592</td>\n",
       "      <td>2.799320</td>\n",
       "      <td>2.761224</td>\n",
       "      <td>7.008163</td>\n",
       "      <td>4.229252</td>\n",
       "      <td>2.187755</td>\n",
       "      <td>4.123129</td>\n",
       "    </tr>\n",
       "    <tr>\n",
       "      <th>std</th>\n",
       "      <td>9.135373</td>\n",
       "      <td>NaN</td>\n",
       "      <td>NaN</td>\n",
       "      <td>NaN</td>\n",
       "      <td>8.106864</td>\n",
       "      <td>1.024165</td>\n",
       "      <td>1.093082</td>\n",
       "      <td>NaN</td>\n",
       "      <td>0.711561</td>\n",
       "      <td>1.106940</td>\n",
       "      <td>...</td>\n",
       "      <td>3.659938</td>\n",
       "      <td>0.360824</td>\n",
       "      <td>0.852077</td>\n",
       "      <td>7.780782</td>\n",
       "      <td>1.289271</td>\n",
       "      <td>0.706476</td>\n",
       "      <td>6.126525</td>\n",
       "      <td>3.623137</td>\n",
       "      <td>3.222430</td>\n",
       "      <td>3.568136</td>\n",
       "    </tr>\n",
       "    <tr>\n",
       "      <th>min</th>\n",
       "      <td>18.000000</td>\n",
       "      <td>NaN</td>\n",
       "      <td>NaN</td>\n",
       "      <td>NaN</td>\n",
       "      <td>1.000000</td>\n",
       "      <td>1.000000</td>\n",
       "      <td>1.000000</td>\n",
       "      <td>NaN</td>\n",
       "      <td>1.000000</td>\n",
       "      <td>1.000000</td>\n",
       "      <td>...</td>\n",
       "      <td>11.000000</td>\n",
       "      <td>3.000000</td>\n",
       "      <td>0.000000</td>\n",
       "      <td>0.000000</td>\n",
       "      <td>0.000000</td>\n",
       "      <td>1.000000</td>\n",
       "      <td>0.000000</td>\n",
       "      <td>0.000000</td>\n",
       "      <td>0.000000</td>\n",
       "      <td>0.000000</td>\n",
       "    </tr>\n",
       "    <tr>\n",
       "      <th>25%</th>\n",
       "      <td>30.000000</td>\n",
       "      <td>NaN</td>\n",
       "      <td>NaN</td>\n",
       "      <td>NaN</td>\n",
       "      <td>2.000000</td>\n",
       "      <td>2.000000</td>\n",
       "      <td>2.000000</td>\n",
       "      <td>NaN</td>\n",
       "      <td>2.000000</td>\n",
       "      <td>1.000000</td>\n",
       "      <td>...</td>\n",
       "      <td>12.000000</td>\n",
       "      <td>3.000000</td>\n",
       "      <td>0.000000</td>\n",
       "      <td>6.000000</td>\n",
       "      <td>2.000000</td>\n",
       "      <td>2.000000</td>\n",
       "      <td>3.000000</td>\n",
       "      <td>2.000000</td>\n",
       "      <td>0.000000</td>\n",
       "      <td>2.000000</td>\n",
       "    </tr>\n",
       "    <tr>\n",
       "      <th>50%</th>\n",
       "      <td>36.000000</td>\n",
       "      <td>NaN</td>\n",
       "      <td>NaN</td>\n",
       "      <td>NaN</td>\n",
       "      <td>7.000000</td>\n",
       "      <td>3.000000</td>\n",
       "      <td>3.000000</td>\n",
       "      <td>NaN</td>\n",
       "      <td>3.000000</td>\n",
       "      <td>2.000000</td>\n",
       "      <td>...</td>\n",
       "      <td>14.000000</td>\n",
       "      <td>3.000000</td>\n",
       "      <td>1.000000</td>\n",
       "      <td>10.000000</td>\n",
       "      <td>3.000000</td>\n",
       "      <td>3.000000</td>\n",
       "      <td>5.000000</td>\n",
       "      <td>3.000000</td>\n",
       "      <td>1.000000</td>\n",
       "      <td>3.000000</td>\n",
       "    </tr>\n",
       "    <tr>\n",
       "      <th>75%</th>\n",
       "      <td>43.000000</td>\n",
       "      <td>NaN</td>\n",
       "      <td>NaN</td>\n",
       "      <td>NaN</td>\n",
       "      <td>14.000000</td>\n",
       "      <td>4.000000</td>\n",
       "      <td>4.000000</td>\n",
       "      <td>NaN</td>\n",
       "      <td>3.000000</td>\n",
       "      <td>3.000000</td>\n",
       "      <td>...</td>\n",
       "      <td>18.000000</td>\n",
       "      <td>3.000000</td>\n",
       "      <td>1.000000</td>\n",
       "      <td>15.000000</td>\n",
       "      <td>3.000000</td>\n",
       "      <td>3.000000</td>\n",
       "      <td>9.000000</td>\n",
       "      <td>7.000000</td>\n",
       "      <td>3.000000</td>\n",
       "      <td>7.000000</td>\n",
       "    </tr>\n",
       "    <tr>\n",
       "      <th>max</th>\n",
       "      <td>60.000000</td>\n",
       "      <td>NaN</td>\n",
       "      <td>NaN</td>\n",
       "      <td>NaN</td>\n",
       "      <td>29.000000</td>\n",
       "      <td>5.000000</td>\n",
       "      <td>4.000000</td>\n",
       "      <td>NaN</td>\n",
       "      <td>4.000000</td>\n",
       "      <td>5.000000</td>\n",
       "      <td>...</td>\n",
       "      <td>25.000000</td>\n",
       "      <td>4.000000</td>\n",
       "      <td>3.000000</td>\n",
       "      <td>40.000000</td>\n",
       "      <td>6.000000</td>\n",
       "      <td>4.000000</td>\n",
       "      <td>40.000000</td>\n",
       "      <td>18.000000</td>\n",
       "      <td>15.000000</td>\n",
       "      <td>17.000000</td>\n",
       "    </tr>\n",
       "  </tbody>\n",
       "</table>\n",
       "<p>11 rows × 26 columns</p>\n",
       "</div>"
      ],
      "text/plain": [
       "                Age Attrition BusinessTravel              Department  \\\n",
       "count   1470.000000      1470           1470                    1470   \n",
       "unique          NaN         2              3                       3   \n",
       "top             NaN        No  Travel_Rarely  Research & Development   \n",
       "freq            NaN      1233           1043                     961   \n",
       "mean      36.923810       NaN            NaN                     NaN   \n",
       "std        9.135373       NaN            NaN                     NaN   \n",
       "min       18.000000       NaN            NaN                     NaN   \n",
       "25%       30.000000       NaN            NaN                     NaN   \n",
       "50%       36.000000       NaN            NaN                     NaN   \n",
       "75%       43.000000       NaN            NaN                     NaN   \n",
       "max       60.000000       NaN            NaN                     NaN   \n",
       "\n",
       "        DistanceFromHome    Education  EnvironmentSatisfaction Gender  \\\n",
       "count        1470.000000  1470.000000              1470.000000   1470   \n",
       "unique               NaN          NaN                      NaN      2   \n",
       "top                  NaN          NaN                      NaN   Male   \n",
       "freq                 NaN          NaN                      NaN    882   \n",
       "mean            9.192517     2.912925                 2.721769    NaN   \n",
       "std             8.106864     1.024165                 1.093082    NaN   \n",
       "min             1.000000     1.000000                 1.000000    NaN   \n",
       "25%             2.000000     2.000000                 2.000000    NaN   \n",
       "50%             7.000000     3.000000                 3.000000    NaN   \n",
       "75%            14.000000     4.000000                 4.000000    NaN   \n",
       "max            29.000000     5.000000                 4.000000    NaN   \n",
       "\n",
       "        JobInvolvement     JobLevel  ... PercentSalaryHike  PerformanceRating  \\\n",
       "count      1470.000000  1470.000000  ...       1470.000000        1470.000000   \n",
       "unique             NaN          NaN  ...               NaN                NaN   \n",
       "top                NaN          NaN  ...               NaN                NaN   \n",
       "freq               NaN          NaN  ...               NaN                NaN   \n",
       "mean          2.729932     2.063946  ...         15.209524           3.153741   \n",
       "std           0.711561     1.106940  ...          3.659938           0.360824   \n",
       "min           1.000000     1.000000  ...         11.000000           3.000000   \n",
       "25%           2.000000     1.000000  ...         12.000000           3.000000   \n",
       "50%           3.000000     2.000000  ...         14.000000           3.000000   \n",
       "75%           3.000000     3.000000  ...         18.000000           3.000000   \n",
       "max           4.000000     5.000000  ...         25.000000           4.000000   \n",
       "\n",
       "       StockOptionLevel  TotalWorkingYears  TrainingTimesLastYear  \\\n",
       "count       1470.000000        1470.000000            1470.000000   \n",
       "unique              NaN                NaN                    NaN   \n",
       "top                 NaN                NaN                    NaN   \n",
       "freq                NaN                NaN                    NaN   \n",
       "mean           0.793878          11.279592               2.799320   \n",
       "std            0.852077           7.780782               1.289271   \n",
       "min            0.000000           0.000000               0.000000   \n",
       "25%            0.000000           6.000000               2.000000   \n",
       "50%            1.000000          10.000000               3.000000   \n",
       "75%            1.000000          15.000000               3.000000   \n",
       "max            3.000000          40.000000               6.000000   \n",
       "\n",
       "       WorkLifeBalance  YearsAtCompany  YearsInCurrentRole  \\\n",
       "count      1470.000000     1470.000000         1470.000000   \n",
       "unique             NaN             NaN                 NaN   \n",
       "top                NaN             NaN                 NaN   \n",
       "freq               NaN             NaN                 NaN   \n",
       "mean          2.761224        7.008163            4.229252   \n",
       "std           0.706476        6.126525            3.623137   \n",
       "min           1.000000        0.000000            0.000000   \n",
       "25%           2.000000        3.000000            2.000000   \n",
       "50%           3.000000        5.000000            3.000000   \n",
       "75%           3.000000        9.000000            7.000000   \n",
       "max           4.000000       40.000000           18.000000   \n",
       "\n",
       "        YearsSinceLastPromotion  YearsWithCurrManager  \n",
       "count               1470.000000           1470.000000  \n",
       "unique                      NaN                   NaN  \n",
       "top                         NaN                   NaN  \n",
       "freq                        NaN                   NaN  \n",
       "mean                   2.187755              4.123129  \n",
       "std                    3.222430              3.568136  \n",
       "min                    0.000000              0.000000  \n",
       "25%                    0.000000              2.000000  \n",
       "50%                    1.000000              3.000000  \n",
       "75%                    3.000000              7.000000  \n",
       "max                   15.000000             17.000000  \n",
       "\n",
       "[11 rows x 26 columns]"
      ]
     },
     "execution_count": 96,
     "metadata": {},
     "output_type": "execute_result"
    }
   ],
   "source": [
    "#To get description of all columns\n",
    "df.describe(include = 'all')"
   ]
  },
  {
   "cell_type": "markdown",
   "metadata": {},
   "source": [
    "## 2. Data Cleaning"
   ]
  },
  {
   "cell_type": "markdown",
   "metadata": {},
   "source": [
    "This phase is the most time consuming yet the most importat one. Here, we filter and extract only the information that is needed for problem solving. Quality of the model is highly dependant on the quality of the data that is given as an input. \n",
    "* Understand meaning of every feature and identify errors.\n",
    "* Look for any missing values and find a way to fill the missing values.\n",
    "* Remove duplicate or corrupted records.\n",
    "* Scaling and normalization of data.\n",
    "* Character encoding (string to numerical representation).\n",
    "* Handle inconsistent entry.\n",
    "* Use tools like pandas(python), dplyr(R), numpy."
   ]
  },
  {
   "cell_type": "markdown",
   "metadata": {},
   "source": [
    "### 2.1 Handling missing values"
   ]
  },
  {
   "cell_type": "code",
   "execution_count": 97,
   "metadata": {},
   "outputs": [
    {
     "data": {
      "text/plain": [
       "Age                        0\n",
       "Attrition                  0\n",
       "BusinessTravel             0\n",
       "Department                 0\n",
       "DistanceFromHome           0\n",
       "Education                  0\n",
       "EnvironmentSatisfaction    0\n",
       "Gender                     0\n",
       "JobInvolvement             0\n",
       "JobLevel                   0\n",
       "JobRole                    0\n",
       "JobSatisfaction            0\n",
       "MaritalStatus              0\n",
       "MonthlyIncome              0\n",
       "NumCompaniesWorked         0\n",
       "OverTime                   0\n",
       "PercentSalaryHike          0\n",
       "PerformanceRating          0\n",
       "StockOptionLevel           0\n",
       "TotalWorkingYears          0\n",
       "TrainingTimesLastYear      0\n",
       "WorkLifeBalance            0\n",
       "YearsAtCompany             0\n",
       "YearsInCurrentRole         0\n",
       "YearsSinceLastPromotion    0\n",
       "YearsWithCurrManager       0\n",
       "dtype: int64"
      ]
     },
     "execution_count": 97,
     "metadata": {},
     "output_type": "execute_result"
    }
   ],
   "source": [
    "#Find number of missing values in every feature\n",
    "df.isnull().sum()"
   ]
  },
  {
   "cell_type": "markdown",
   "metadata": {},
   "source": [
    "Looks like the best dataset!!! No null values :-)\n",
    "\n",
    "#### But what if we have null values ???? Let's see what we can do in that case.\n",
    "\n",
    "* Find why that data is missing. Human error or missed during extraction\n",
    "* Drop missing values. \n",
    "* Some ways for filling missing values: \n",
    "  - Zero \n",
    "  - Mean ( works with normal distribution )\n",
    "  - Random values from same distribution ( works well with equal distribution ) \n",
    "  - Value after missing value (make sense if data set has some logical order)"
   ]
  },
  {
   "cell_type": "markdown",
   "metadata": {},
   "source": [
    "### 2.2 Encode categorical features(in string) as most of the tools works with numbers"
   ]
  },
  {
   "cell_type": "code",
   "execution_count": 98,
   "metadata": {},
   "outputs": [],
   "source": [
    "#Columns with string values\n",
    "categorical_column = ['Attrition', 'BusinessTravel', 'Department',\n",
    "                      'Gender', 'JobRole', 'MaritalStatus', 'OverTime']"
   ]
  },
  {
   "cell_type": "code",
   "execution_count": 99,
   "metadata": {},
   "outputs": [
    {
     "name": "stdout",
     "output_type": "stream",
     "text": [
      "Feature Attrition\n",
      "mapping {'No': 0, 'Yes': 1}\n",
      "Feature BusinessTravel\n",
      "mapping {'Non-Travel': 0, 'Travel_Frequently': 1, 'Travel_Rarely': 2}\n",
      "Feature Department\n",
      "mapping {'Human Resources': 0, 'Research & Development': 1, 'Sales': 2}\n",
      "Feature Gender\n",
      "mapping {'Female': 0, 'Male': 1}\n",
      "Feature JobRole\n",
      "mapping {'Healthcare Representative': 0, 'Human Resources': 1, 'Laboratory Technician': 2, 'Manager': 3, 'Manufacturing Director': 4, 'Research Director': 5, 'Research Scientist': 6, 'Sales Executive': 7, 'Sales Representative': 8}\n",
      "Feature MaritalStatus\n",
      "mapping {'Divorced': 0, 'Married': 1, 'Single': 2}\n",
      "Feature OverTime\n",
      "mapping {'No': 0, 'Yes': 1}\n"
     ]
    }
   ],
   "source": [
    "#Deep copy the original data\n",
    "data_encoded = df.copy(deep=True)\n",
    "from sklearn import preprocessing\n",
    "#Use Scikit-learn label encoding to encode character data\n",
    "lab_enc = preprocessing.LabelEncoder()\n",
    "for col in categorical_column:\n",
    "        data_encoded[col] = lab_enc.fit_transform(df[col])\n",
    "        le_name_mapping = dict(zip(lab_enc.classes_, lab_enc.transform(lab_enc.classes_)))\n",
    "        print('Feature', col)\n",
    "        print('mapping', le_name_mapping)"
   ]
  },
  {
   "cell_type": "code",
   "execution_count": 100,
   "metadata": {},
   "outputs": [
    {
     "data": {
      "text/html": [
       "<div>\n",
       "<style scoped>\n",
       "    .dataframe tbody tr th:only-of-type {\n",
       "        vertical-align: middle;\n",
       "    }\n",
       "\n",
       "    .dataframe tbody tr th {\n",
       "        vertical-align: top;\n",
       "    }\n",
       "\n",
       "    .dataframe thead th {\n",
       "        text-align: right;\n",
       "    }\n",
       "</style>\n",
       "<table border=\"1\" class=\"dataframe\">\n",
       "  <thead>\n",
       "    <tr style=\"text-align: right;\">\n",
       "      <th></th>\n",
       "      <th>Age</th>\n",
       "      <th>Attrition</th>\n",
       "      <th>BusinessTravel</th>\n",
       "      <th>Department</th>\n",
       "      <th>DistanceFromHome</th>\n",
       "      <th>Education</th>\n",
       "      <th>EnvironmentSatisfaction</th>\n",
       "      <th>Gender</th>\n",
       "      <th>JobInvolvement</th>\n",
       "      <th>JobLevel</th>\n",
       "      <th>...</th>\n",
       "      <th>PercentSalaryHike</th>\n",
       "      <th>PerformanceRating</th>\n",
       "      <th>StockOptionLevel</th>\n",
       "      <th>TotalWorkingYears</th>\n",
       "      <th>TrainingTimesLastYear</th>\n",
       "      <th>WorkLifeBalance</th>\n",
       "      <th>YearsAtCompany</th>\n",
       "      <th>YearsInCurrentRole</th>\n",
       "      <th>YearsSinceLastPromotion</th>\n",
       "      <th>YearsWithCurrManager</th>\n",
       "    </tr>\n",
       "  </thead>\n",
       "  <tbody>\n",
       "    <tr>\n",
       "      <th>0</th>\n",
       "      <td>41</td>\n",
       "      <td>1</td>\n",
       "      <td>2</td>\n",
       "      <td>2</td>\n",
       "      <td>1</td>\n",
       "      <td>2</td>\n",
       "      <td>2</td>\n",
       "      <td>0</td>\n",
       "      <td>3</td>\n",
       "      <td>2</td>\n",
       "      <td>...</td>\n",
       "      <td>11</td>\n",
       "      <td>3</td>\n",
       "      <td>0</td>\n",
       "      <td>8</td>\n",
       "      <td>0</td>\n",
       "      <td>1</td>\n",
       "      <td>6</td>\n",
       "      <td>4</td>\n",
       "      <td>0</td>\n",
       "      <td>5</td>\n",
       "    </tr>\n",
       "    <tr>\n",
       "      <th>1</th>\n",
       "      <td>49</td>\n",
       "      <td>0</td>\n",
       "      <td>1</td>\n",
       "      <td>1</td>\n",
       "      <td>8</td>\n",
       "      <td>1</td>\n",
       "      <td>3</td>\n",
       "      <td>1</td>\n",
       "      <td>2</td>\n",
       "      <td>2</td>\n",
       "      <td>...</td>\n",
       "      <td>23</td>\n",
       "      <td>4</td>\n",
       "      <td>1</td>\n",
       "      <td>10</td>\n",
       "      <td>3</td>\n",
       "      <td>3</td>\n",
       "      <td>10</td>\n",
       "      <td>7</td>\n",
       "      <td>1</td>\n",
       "      <td>7</td>\n",
       "    </tr>\n",
       "    <tr>\n",
       "      <th>2</th>\n",
       "      <td>37</td>\n",
       "      <td>1</td>\n",
       "      <td>2</td>\n",
       "      <td>1</td>\n",
       "      <td>2</td>\n",
       "      <td>2</td>\n",
       "      <td>4</td>\n",
       "      <td>1</td>\n",
       "      <td>2</td>\n",
       "      <td>1</td>\n",
       "      <td>...</td>\n",
       "      <td>15</td>\n",
       "      <td>3</td>\n",
       "      <td>0</td>\n",
       "      <td>7</td>\n",
       "      <td>3</td>\n",
       "      <td>3</td>\n",
       "      <td>0</td>\n",
       "      <td>0</td>\n",
       "      <td>0</td>\n",
       "      <td>0</td>\n",
       "    </tr>\n",
       "    <tr>\n",
       "      <th>3</th>\n",
       "      <td>33</td>\n",
       "      <td>0</td>\n",
       "      <td>1</td>\n",
       "      <td>1</td>\n",
       "      <td>3</td>\n",
       "      <td>4</td>\n",
       "      <td>4</td>\n",
       "      <td>0</td>\n",
       "      <td>3</td>\n",
       "      <td>1</td>\n",
       "      <td>...</td>\n",
       "      <td>11</td>\n",
       "      <td>3</td>\n",
       "      <td>0</td>\n",
       "      <td>8</td>\n",
       "      <td>3</td>\n",
       "      <td>3</td>\n",
       "      <td>8</td>\n",
       "      <td>7</td>\n",
       "      <td>3</td>\n",
       "      <td>0</td>\n",
       "    </tr>\n",
       "    <tr>\n",
       "      <th>4</th>\n",
       "      <td>27</td>\n",
       "      <td>0</td>\n",
       "      <td>2</td>\n",
       "      <td>1</td>\n",
       "      <td>2</td>\n",
       "      <td>1</td>\n",
       "      <td>1</td>\n",
       "      <td>1</td>\n",
       "      <td>3</td>\n",
       "      <td>1</td>\n",
       "      <td>...</td>\n",
       "      <td>12</td>\n",
       "      <td>3</td>\n",
       "      <td>1</td>\n",
       "      <td>6</td>\n",
       "      <td>3</td>\n",
       "      <td>3</td>\n",
       "      <td>2</td>\n",
       "      <td>2</td>\n",
       "      <td>2</td>\n",
       "      <td>2</td>\n",
       "    </tr>\n",
       "  </tbody>\n",
       "</table>\n",
       "<p>5 rows × 26 columns</p>\n",
       "</div>"
      ],
      "text/plain": [
       "   Age  Attrition  BusinessTravel  Department  DistanceFromHome  Education  \\\n",
       "0   41          1               2           2                 1          2   \n",
       "1   49          0               1           1                 8          1   \n",
       "2   37          1               2           1                 2          2   \n",
       "3   33          0               1           1                 3          4   \n",
       "4   27          0               2           1                 2          1   \n",
       "\n",
       "   EnvironmentSatisfaction  Gender  JobInvolvement  JobLevel  ...  \\\n",
       "0                        2       0               3         2  ...   \n",
       "1                        3       1               2         2  ...   \n",
       "2                        4       1               2         1  ...   \n",
       "3                        4       0               3         1  ...   \n",
       "4                        1       1               3         1  ...   \n",
       "\n",
       "   PercentSalaryHike  PerformanceRating  StockOptionLevel  TotalWorkingYears  \\\n",
       "0                 11                  3                 0                  8   \n",
       "1                 23                  4                 1                 10   \n",
       "2                 15                  3                 0                  7   \n",
       "3                 11                  3                 0                  8   \n",
       "4                 12                  3                 1                  6   \n",
       "\n",
       "   TrainingTimesLastYear  WorkLifeBalance  YearsAtCompany  YearsInCurrentRole  \\\n",
       "0                      0                1               6                   4   \n",
       "1                      3                3              10                   7   \n",
       "2                      3                3               0                   0   \n",
       "3                      3                3               8                   7   \n",
       "4                      3                3               2                   2   \n",
       "\n",
       "   YearsSinceLastPromotion  YearsWithCurrManager  \n",
       "0                        0                     5  \n",
       "1                        1                     7  \n",
       "2                        0                     0  \n",
       "3                        3                     0  \n",
       "4                        2                     2  \n",
       "\n",
       "[5 rows x 26 columns]"
      ]
     },
     "execution_count": 100,
     "metadata": {},
     "output_type": "execute_result"
    }
   ],
   "source": [
    "data_encoded.head()"
   ]
  },
  {
   "cell_type": "markdown",
   "metadata": {},
   "source": [
    "## 3. Data Exploration"
   ]
  },
  {
   "cell_type": "markdown",
   "metadata": {},
   "source": [
    "* Find patterns in data through data visualization. Reveal hidden secrets of the data through graphs, analysis and charts.\n",
    "   -  Univariate analysis \n",
    "      * Continous variables : Histograms, boxplots. This gives us understanding about the central tendency and spread\n",
    "      * Categorical variable : Bar chart showing frequency in each category \n",
    "   -  Bivariate analysis\n",
    "      * Continous & Continous : Scatter plots to know how continous variables interact with each other\n",
    "      * Categorical & categorical : Stacked column chart to show how the frequencies are spread between two  \n",
    "        categorical variables\n",
    "      * Categorical & Continous : Boxplots, Swamplots or even bar charts\n",
    "* Detect outliers\n",
    "* Feature engineering "
   ]
  },
  {
   "cell_type": "markdown",
   "metadata": {},
   "source": [
    "### 3.1 Get data distribution between output classes"
   ]
  },
  {
   "cell_type": "code",
   "execution_count": 101,
   "metadata": {},
   "outputs": [
    {
     "data": {
      "text/plain": [
       "0    1233\n",
       "1     237\n",
       "Name: Attrition, dtype: int64"
      ]
     },
     "execution_count": 101,
     "metadata": {},
     "output_type": "execute_result"
    }
   ],
   "source": [
    "data_encoded['Attrition'].value_counts()"
   ]
  },
  {
   "cell_type": "markdown",
   "metadata": {},
   "source": [
    "From the above result, we can find that about 82% of people stick to the company while rest of them quit :-(\n",
    "\n",
    "\n",
    "**** Data is unbalanced ****"
   ]
  },
  {
   "cell_type": "markdown",
   "metadata": {},
   "source": [
    "### 3.2 Finding correlation between variables"
   ]
  },
  {
   "cell_type": "code",
   "execution_count": 102,
   "metadata": {},
   "outputs": [],
   "source": [
    "data_correlation = data_encoded.corr()"
   ]
  },
  {
   "cell_type": "code",
   "execution_count": 103,
   "metadata": {},
   "outputs": [
    {
     "data": {
      "text/plain": [
       "<AxesSubplot:>"
      ]
     },
     "execution_count": 103,
     "metadata": {},
     "output_type": "execute_result"
    },
    {
     "data": {
      "image/png": "[encoded data removed]",
      "text/plain": [
       "<Figure size 1080x720 with 2 Axes>"
      ]
     },
     "metadata": {
      "needs_background": "light"
     },
     "output_type": "display_data"
    }
   ],
   "source": [
    "plt.rcParams[\"figure.figsize\"] = [15,10]\n",
    "sns.heatmap(data_correlation,xticklabels=data_correlation.columns,yticklabels=data_correlation.columns)"
   ]
  },
  {
   "cell_type": "markdown",
   "metadata": {},
   "source": [
    "#### Analysis of correlation results (sample analysis)\n",
    "\n",
    "- Monthly income is highly correlated with Job level.\n",
    "- Job level is highly correlated with total working hours.\n",
    "- Monthly income is highly correlated with total working hours.\n",
    "- Age is also positively correlated with the Total working hours.\n",
    "- Marital status and stock option level are negatively correlated"
   ]
  },
  {
   "cell_type": "code",
   "execution_count": 104,
   "metadata": {},
   "outputs": [
    {
     "data": {
      "text/plain": [
       "<AxesSubplot:>"
      ]
     },
     "execution_count": 104,
     "metadata": {},
     "output_type": "execute_result"
    },
    {
     "data": {
      "image/png": "[encoded data removed]",
      "text/plain": [
       "<Figure size 1440x720 with 2 Axes>"
      ]
     },
     "metadata": {
      "needs_background": "light"
     },
     "output_type": "display_data"
    }
   ],
   "source": [
    "#Viewing the analysis obtained above \n",
    "data_corr_filtered = df[['MonthlyIncome', 'TotalWorkingYears', 'Age', 'MaritalStatus', 'StockOptionLevel',\n",
    "                      'JobLevel']]\n",
    "correlation = data_corr_filtered.corr()\n",
    "plt.rcParams[\"figure.figsize\"] = [20,10]\n",
    "sns.heatmap(correlation,xticklabels=data_corr_filtered.columns,yticklabels=data_corr_filtered.columns)"
   ]
  },
  {
   "cell_type": "markdown",
   "metadata": {},
   "source": [
    "### 3.3 Understanding relationship between features and finding patterns in data through visualization\n",
    "\n",
    "Popular data visualization libraries in python are:\n",
    "     1. Matplotlib\n",
    "     2. Seaborn\n",
    "     3. ggplot\n",
    "     4. Bokeh\n",
    "     5. pygal\n",
    "     6. Plotly\n",
    "     7. geoplotlib\n",
    "     8. Gleam\n",
    "     9. missingno\n",
    "     10. Leather"
   ]
  },
  {
   "cell_type": "markdown",
   "metadata": {},
   "source": [
    "### 3.3.1 Age Analysis\n",
    "Finding relationship between age and attrition. "
   ]
  },
  {
   "cell_type": "code",
   "execution_count": 105,
   "metadata": {},
   "outputs": [
    {
     "data": {
      "text/plain": [
       "(array([  0.,  17., 309., 622., 349., 168.,   5.]),\n",
       " array([ 0, 10, 20, 30, 40, 50, 60, 70]),\n",
       " <BarContainer object of 7 artists>)"
      ]
     },
     "execution_count": 105,
     "metadata": {},
     "output_type": "execute_result"
    },
    {
     "data": {
      "image/png": "[encoded data removed]",
      "text/plain": [
       "<Figure size 504x504 with 1 Axes>"
      ]
     },
     "metadata": {
      "needs_background": "light"
     },
     "output_type": "display_data"
    }
   ],
   "source": [
    "#Plot to see distribution of age overall\n",
    "plt.rcParams[\"figure.figsize\"] = [7,7]\n",
    "plt.hist(data_encoded['Age'], bins=np.arange(0,80,10), alpha=0.8, rwidth=0.9, color='blue')"
   ]
  },
  {
   "cell_type": "markdown",
   "metadata": {},
   "source": [
    "#### Finding based on above plot\n",
    "This plot tells that there are more employees in the range of 30 to 40. Approximately 45% of employees fall in this range."
   ]
  },
  {
   "cell_type": "code",
   "execution_count": 106,
   "metadata": {},
   "outputs": [],
   "source": [
    "#We are going to bin age (multiples of 10) to see which age group are likely to leave the company.\n",
    "#Before that, let us take only employee who are likely to quit.\n",
    "positive_attrition_df = data_encoded.loc[data_encoded['Attrition'] == 1]\n",
    "negative_attrition_df = data_encoded.loc[data_encoded['Attrition'] == 0]"
   ]
  },
  {
   "cell_type": "code",
   "execution_count": 107,
   "metadata": {},
   "outputs": [
    {
     "data": {
      "text/plain": [
       "(array([ 0., 10., 81., 89., 34., 23.,  0.]),\n",
       " array([ 0, 10, 20, 30, 40, 50, 60, 70]),\n",
       " <BarContainer object of 7 artists>)"
      ]
     },
     "execution_count": 107,
     "metadata": {},
     "output_type": "execute_result"
    },
    {
     "data": {
      "image/png": "[encoded data removed]",
      "text/plain": [
       "<Figure size 504x504 with 1 Axes>"
      ]
     },
     "metadata": {
      "needs_background": "light"
     },
     "output_type": "display_data"
    }
   ],
   "source": [
    "plt.hist(positive_attrition_df['Age'], bins=np.arange(0,80,10), alpha=0.8, rwidth=0.9, color='red')"
   ]
  },
  {
   "cell_type": "markdown",
   "metadata": {},
   "source": [
    "#### Findings based on above plot\n",
    "- Employees whose age is in the range of 30 - 40 are more likely to quit.\n",
    "- Employees in the range of 20 to 30 are also equally imposing the threat to employers."
   ]
  },
  {
   "cell_type": "markdown",
   "metadata": {},
   "source": [
    "### 3.3.2 Business Travel vs Attrition\n",
    "There are 3 categories in this:\n",
    "    1. No travel (0).\n",
    "    2. Travel Frequently (1).\n",
    "    3. Travel Rarely (2).\n",
    "Attrition: No = 0 and Yes = 1"
   ]
  },
  {
   "cell_type": "code",
   "execution_count": 108,
   "metadata": {},
   "outputs": [
    {
     "data": {
      "image/png": "[encoded data removed]",
      "text/plain": [
       "<Figure size 504x504 with 1 Axes>"
      ]
     },
     "metadata": {
      "needs_background": "light"
     },
     "output_type": "display_data"
    }
   ],
   "source": [
    "ax = sns.countplot(x=\"BusinessTravel\", hue=\"Attrition\", data=data_encoded)\n",
    "for p in ax.patches:\n",
    "    ax.annotate('{}'.format(p.get_height()), (p.get_x(), p.get_height()+1))"
   ]
  },
  {
   "cell_type": "markdown",
   "metadata": {},
   "source": [
    "#### Findings\n",
    "From the above plot it can be inferred that travel can not be a compelling factor for attrition. Employee who travel rarely are likely to quit more"
   ]
  },
  {
   "cell_type": "markdown",
   "metadata": {},
   "source": [
    "### 3.3.3 Department Vs Attrition\n",
    "There are three categories in department:\n",
    "       1. Human Resources: 0\n",
    "       2. Research & Development: 1\n",
    "       3. Sales: 2\n",
    "Attrition: No = 0 and Yes = 1"
   ]
  },
  {
   "cell_type": "code",
   "execution_count": 109,
   "metadata": {},
   "outputs": [
    {
     "data": {
      "image/png": "[encoded data removed]",
      "text/plain": [
       "<Figure size 504x504 with 1 Axes>"
      ]
     },
     "metadata": {
      "needs_background": "light"
     },
     "output_type": "display_data"
    }
   ],
   "source": [
    "ax = sns.countplot(x=\"Department\", hue=\"Attrition\", data=data_encoded)\n",
    "for p in ax.patches:\n",
    "    ax.annotate('{}'.format(p.get_height()), (p.get_x(), p.get_height()+1))"
   ]
  },
  {
   "cell_type": "markdown",
   "metadata": {},
   "source": [
    "#### Inference:\n",
    "    1. 56% of employess from research and development department are likely to quit.\n",
    "    2. 38% of employees from sales department are likely to quit."
   ]
  },
  {
   "cell_type": "markdown",
   "metadata": {},
   "source": [
    "### 3.3.4 Distance from home Vs Employee Attrition"
   ]
  },
  {
   "cell_type": "code",
   "execution_count": 110,
   "metadata": {},
   "outputs": [
    {
     "data": {
      "text/plain": [
       "(array([807., 246., 180.,   0.,   0.,   0.,   0.]),\n",
       " array([ 0, 10, 20, 30, 40, 50, 60, 70]),\n",
       " <BarContainer object of 7 artists>)"
      ]
     },
     "execution_count": 110,
     "metadata": {},
     "output_type": "execute_result"
    },
    {
     "data": {
      "image/png": "[encoded data removed]",
      "text/plain": [
       "<Figure size 504x504 with 1 Axes>"
      ]
     },
     "metadata": {
      "needs_background": "light"
     },
     "output_type": "display_data"
    }
   ],
   "source": [
    "plt.hist(negative_attrition_df['DistanceFromHome'], bins=np.arange(0,80,10), alpha=0.8, rwidth=0.9, color='red')"
   ]
  },
  {
   "cell_type": "code",
   "execution_count": 111,
   "metadata": {},
   "outputs": [
    {
     "data": {
      "text/plain": [
       "(array([133.,  55.,  49.,   0.,   0.,   0.,   0.]),\n",
       " array([ 0, 10, 20, 30, 40, 50, 60, 70]),\n",
       " <BarContainer object of 7 artists>)"
      ]
     },
     "execution_count": 111,
     "metadata": {},
     "output_type": "execute_result"
    },
    {
     "data": {
      "image/png": "[encoded data removed]",
      "text/plain": [
       "<Figure size 504x504 with 1 Axes>"
      ]
     },
     "metadata": {
      "needs_background": "light"
     },
     "output_type": "display_data"
    }
   ],
   "source": [
    "plt.hist(positive_attrition_df['DistanceFromHome'], bins=np.arange(0,80,10), alpha=0.8, rwidth=0.9, color='red')"
   ]
  },
  {
   "cell_type": "markdown",
   "metadata": {},
   "source": [
    "#### Findings\n",
    "People who live closeby (0-10 miles) are likely to quit more based on the data"
   ]
  },
  {
   "cell_type": "markdown",
   "metadata": {},
   "source": [
    "### 3.3.5 Education vs Attrition\n",
    "There are five categories: \n",
    "     1. Below College - 1 \n",
    "     2. College - 2\n",
    "     3. Bachelor - 3\n",
    "     4. Master - 4\n",
    "     5. Doctor - 5"
   ]
  },
  {
   "cell_type": "code",
   "execution_count": 112,
   "metadata": {},
   "outputs": [
    {
     "data": {
      "image/png": "[encoded data removed]",
      "text/plain": [
       "<Figure size 504x504 with 1 Axes>"
      ]
     },
     "metadata": {
      "needs_background": "light"
     },
     "output_type": "display_data"
    }
   ],
   "source": [
    "ax = sns.countplot(x=\"Education\", hue=\"Attrition\", data=data_encoded)\n",
    "for p in ax.patches:\n",
    "    ax.annotate('{}'.format(p.get_height()), (p.get_x(), p.get_height()+1))"
   ]
  },
  {
   "cell_type": "markdown",
   "metadata": {},
   "source": [
    "Inference:\n",
    "    1. 41% of employees having bachelor's degree are likely to quit.\n",
    "    2. 24% of employees having master's are the next in line"
   ]
  },
  {
   "cell_type": "markdown",
   "metadata": {},
   "source": [
    "### 3.3.6 Gender vs Attrition"
   ]
  },
  {
   "cell_type": "code",
   "execution_count": 113,
   "metadata": {},
   "outputs": [],
   "source": [
    "df_age = data_encoded.copy(deep=True)\n",
    "df_age.loc[df_age['Age'] <= 20, 'Age'] = 0\n",
    "df_age.loc[(df_age['Age'] > 20) & (df_age['Age'] <= 30), 'Age'] = 1\n",
    "df_age.loc[(df_age['Age'] > 30) & (df_age['Age'] <= 40), 'Age'] = 2\n",
    "df_age.loc[(df_age['Age'] > 40) & (df_age['Age'] <= 50), 'Age'] = 3\n",
    "df_age.loc[(df_age['Age'] > 50), 'Age'] = 4"
   ]
  },
  {
   "cell_type": "code",
   "execution_count": 114,
   "metadata": {},
   "outputs": [],
   "source": [
    "df_age = pd.DataFrame({'count': df_age.groupby([\"Gender\", \"Attrition\"]).size()}).reset_index()\n",
    "df_age['Gender-attrition'] = df_age['Gender'].astype(str) + \"-\" + df_age['Attrition'].astype(str).map(str)"
   ]
  },
  {
   "cell_type": "code",
   "execution_count": 115,
   "metadata": {},
   "outputs": [
    {
     "data": {
      "text/html": [
       "<div>\n",
       "<style scoped>\n",
       "    .dataframe tbody tr th:only-of-type {\n",
       "        vertical-align: middle;\n",
       "    }\n",
       "\n",
       "    .dataframe tbody tr th {\n",
       "        vertical-align: top;\n",
       "    }\n",
       "\n",
       "    .dataframe thead th {\n",
       "        text-align: right;\n",
       "    }\n",
       "</style>\n",
       "<table border=\"1\" class=\"dataframe\">\n",
       "  <thead>\n",
       "    <tr style=\"text-align: right;\">\n",
       "      <th></th>\n",
       "      <th>Gender</th>\n",
       "      <th>Attrition</th>\n",
       "      <th>count</th>\n",
       "      <th>Gender-attrition</th>\n",
       "    </tr>\n",
       "  </thead>\n",
       "  <tbody>\n",
       "    <tr>\n",
       "      <th>0</th>\n",
       "      <td>0</td>\n",
       "      <td>0</td>\n",
       "      <td>501</td>\n",
       "      <td>0-0</td>\n",
       "    </tr>\n",
       "    <tr>\n",
       "      <th>1</th>\n",
       "      <td>0</td>\n",
       "      <td>1</td>\n",
       "      <td>87</td>\n",
       "      <td>0-1</td>\n",
       "    </tr>\n",
       "    <tr>\n",
       "      <th>2</th>\n",
       "      <td>1</td>\n",
       "      <td>0</td>\n",
       "      <td>732</td>\n",
       "      <td>1-0</td>\n",
       "    </tr>\n",
       "    <tr>\n",
       "      <th>3</th>\n",
       "      <td>1</td>\n",
       "      <td>1</td>\n",
       "      <td>150</td>\n",
       "      <td>1-1</td>\n",
       "    </tr>\n",
       "  </tbody>\n",
       "</table>\n",
       "</div>"
      ],
      "text/plain": [
       "   Gender  Attrition  count Gender-attrition\n",
       "0       0          0    501              0-0\n",
       "1       0          1     87              0-1\n",
       "2       1          0    732              1-0\n",
       "3       1          1    150              1-1"
      ]
     },
     "execution_count": 115,
     "metadata": {},
     "output_type": "execute_result"
    }
   ],
   "source": [
    "df_age"
   ]
  },
  {
   "cell_type": "markdown",
   "metadata": {},
   "source": [
    "Here,\n",
    "\n",
    "* Gender - 0 and Attrition - 0 ===> Female employees who will stay\n",
    "* Gender - 0 and Attrition - 1 ===> Female employees who will leave\n",
    "* Gender - 1 and Attrition - 0 ===> Male employees who will stay\n",
    "* Gender - 1 and Attrition - 1 ===> Male employees who will leave"
   ]
  },
  {
   "cell_type": "code",
   "execution_count": 116,
   "metadata": {},
   "outputs": [
    {
     "name": "stdout",
     "output_type": "stream",
     "text": [
      "[501, 87, 732, 150]\n"
     ]
    },
    {
     "ename": "NameError",
     "evalue": "name 'ColumnDataSource' is not defined",
     "output_type": "error",
     "traceback": [
      "\u001b[1;31m---------------------------------------------------------------------------\u001b[0m",
      "\u001b[1;31mNameError\u001b[0m                                 Traceback (most recent call last)",
      "\u001b[1;32m<ipython-input-116-65aa32b38c4e>\u001b[0m in \u001b[0;36m<module>\u001b[1;34m\u001b[0m\n\u001b[0;32m      6\u001b[0m \u001b[1;33m\u001b[0m\u001b[0m\n\u001b[0;32m      7\u001b[0m \u001b[1;31m# Bokeh's mapping of column names and data lists\u001b[0m\u001b[1;33m\u001b[0m\u001b[1;33m\u001b[0m\u001b[1;33m\u001b[0m\u001b[0m\n\u001b[1;32m----> 8\u001b[1;33m \u001b[0msource\u001b[0m \u001b[1;33m=\u001b[0m \u001b[0mColumnDataSource\u001b[0m\u001b[1;33m(\u001b[0m\u001b[0mdata\u001b[0m\u001b[1;33m=\u001b[0m\u001b[0mdict\u001b[0m\u001b[1;33m(\u001b[0m\u001b[0mGender_Attrition\u001b[0m\u001b[1;33m=\u001b[0m\u001b[0mGender_Attrition\u001b[0m\u001b[1;33m,\u001b[0m \u001b[0mcount\u001b[0m\u001b[1;33m=\u001b[0m\u001b[0mcount\u001b[0m\u001b[1;33m,\u001b[0m \u001b[0mcolor\u001b[0m\u001b[1;33m=\u001b[0m\u001b[0mViridis5\u001b[0m\u001b[1;33m)\u001b[0m\u001b[1;33m)\u001b[0m\u001b[1;33m\u001b[0m\u001b[1;33m\u001b[0m\u001b[0m\n\u001b[0m\u001b[0;32m      9\u001b[0m \u001b[1;33m\u001b[0m\u001b[0m\n\u001b[0;32m     10\u001b[0m \u001b[0mplot_bar\u001b[0m \u001b[1;33m=\u001b[0m \u001b[0mfigure\u001b[0m\u001b[1;33m(\u001b[0m\u001b[0mx_range\u001b[0m\u001b[1;33m=\u001b[0m\u001b[0mGender_Attrition\u001b[0m\u001b[1;33m,\u001b[0m \u001b[0mplot_height\u001b[0m\u001b[1;33m=\u001b[0m\u001b[1;36m350\u001b[0m\u001b[1;33m,\u001b[0m \u001b[0mtitle\u001b[0m\u001b[1;33m=\u001b[0m\u001b[1;34m\"Counts\"\u001b[0m\u001b[1;33m)\u001b[0m\u001b[1;33m\u001b[0m\u001b[1;33m\u001b[0m\u001b[0m\n",
      "\u001b[1;31mNameError\u001b[0m: name 'ColumnDataSource' is not defined"
     ]
    }
   ],
   "source": [
    "# x and y axes\n",
    "Gender_Attrition = df_age['Gender-attrition'].tolist()\n",
    "count = df_age['count'].tolist()\n",
    "\n",
    "print(count)\n",
    "\n",
    "# Bokeh's mapping of column names and data lists\n",
    "source = ColumnDataSource(data=dict(Gender_Attrition=Gender_Attrition, count=count, color=Viridis5))\n",
    "\n",
    "plot_bar = figure(x_range=Gender_Attrition, plot_height=350, title=\"Counts\")\n",
    "\n",
    "# Render and show the vbar plot\n",
    "plot_bar.vbar(x='Gender_Attrition', top='count', width=0.9, color='color', source=source)\n",
    "show(plot_bar)\n"
   ]
  },
  {
   "cell_type": "markdown",
   "metadata": {},
   "source": [
    "#### Findings\n",
    "\n",
    "From the above plot, we can infer that male employees are likely to leave organization as they amount to 63% compared to female who have 36 % attrition rate."
   ]
  },
  {
   "cell_type": "markdown",
   "metadata": {},
   "source": [
    "### 3.3.7 Job Role Vs Attrition"
   ]
  },
  {
   "cell_type": "markdown",
   "metadata": {},
   "source": [
    "Categories in job role:\n",
    "* Healthcare Representative : 0 \n",
    "* Human Resources : 1\n",
    "* Laboratory Technician : 2\n",
    "* Manager : 3 \n",
    "* Manufacturing Director : 4\n",
    "* Research Director : 5\n",
    "* Research Scientist : 6\n",
    "* Sales Executive : 7 \n",
    "* Sales Representative : 8"
   ]
  },
  {
   "cell_type": "code",
   "execution_count": 117,
   "metadata": {},
   "outputs": [],
   "source": [
    "df_jrole = pd.DataFrame({'count': data_encoded.groupby([\"JobRole\", \"Attrition\"]).size()}).reset_index()"
   ]
  },
  {
   "cell_type": "code",
   "execution_count": 118,
   "metadata": {},
   "outputs": [],
   "source": [
    "#Considering attrition case\n",
    "df_jrole_1 = df_jrole.loc[df_jrole['Attrition'] == 1]"
   ]
  },
  {
   "cell_type": "code",
   "execution_count": 119,
   "metadata": {},
   "outputs": [
    {
     "data": {
      "image/svg+xml": [
       "<svg xmlns=\"http://www.w3.org/2000/svg\" xmlns:xlink=\"http://www.w3.org/1999/xlink\" id=\"chart-10003a02-67f3-47fd-980b-9ebdee5b90f5\" class=\"pygal-chart\" viewBox=\"0 0 800 600\"><!--Generated with pygal 3.0.0 (lxml) ©Kozea 2012-2016 on 2022-02-08--><!--http://pygal.org--><!--http://github.com/Kozea/pygal--><defs><style type=\"text/css\">#chart-10003a02-67f3-47fd-980b-9ebdee5b90f5{-webkit-user-select:none;-webkit-font-smoothing:antialiased;font-family:Consolas,&quot;Liberation Mono&quot;,Menlo,Courier,monospace}#chart-10003a02-67f3-47fd-980b-9ebdee5b90f5 .title{font-family:Consolas,&quot;Liberation Mono&quot;,Menlo,Courier,monospace;font-size:16px}#chart-10003a02-67f3-47fd-980b-9ebdee5b90f5 .legends .legend text{font-family:Consolas,&quot;Liberation Mono&quot;,Menlo,Courier,monospace;font-size:14px}#chart-10003a02-67f3-47fd-980b-9ebdee5b90f5 .axis text{font-family:Consolas,&quot;Liberation Mono&quot;,Menlo,Courier,monospace;font-size:10px}#chart-10003a02-67f3-47fd-980b-9ebdee5b90f5 .axis text.major{font-family:Consolas,&quot;Liberation Mono&quot;,Menlo,Courier,monospace;font-size:10px}#chart-10003a02-67f3-47fd-980b-9ebdee5b90f5 .text-overlay text.value{font-family:Consolas,&quot;Liberation Mono&quot;,Menlo,Courier,monospace;font-size:16px}#chart-10003a02-67f3-47fd-980b-9ebdee5b90f5 .text-overlay text.label{font-family:Consolas,&quot;Liberation Mono&quot;,Menlo,Courier,monospace;font-size:10px}#chart-10003a02-67f3-47fd-980b-9ebdee5b90f5 .tooltip{font-family:Consolas,&quot;Liberation Mono&quot;,Menlo,Courier,monospace;font-size:14px}#chart-10003a02-67f3-47fd-980b-9ebdee5b90f5 text.no_data{font-family:Consolas,&quot;Liberation Mono&quot;,Menlo,Courier,monospace;font-size:64px}\n",
       "#chart-10003a02-67f3-47fd-980b-9ebdee5b90f5{background-color:rgba(249,249,249,1)}#chart-10003a02-67f3-47fd-980b-9ebdee5b90f5 path,#chart-10003a02-67f3-47fd-980b-9ebdee5b90f5 line,#chart-10003a02-67f3-47fd-980b-9ebdee5b90f5 rect,#chart-10003a02-67f3-47fd-980b-9ebdee5b90f5 circle{-webkit-transition:150ms;-moz-transition:150ms;transition:150ms}#chart-10003a02-67f3-47fd-980b-9ebdee5b90f5 .graph &gt; .background{fill:rgba(249,249,249,1)}#chart-10003a02-67f3-47fd-980b-9ebdee5b90f5 .plot &gt; .background{fill:rgba(255,255,255,1)}#chart-10003a02-67f3-47fd-980b-9ebdee5b90f5 .graph{fill:rgba(0,0,0,.87)}#chart-10003a02-67f3-47fd-980b-9ebdee5b90f5 text.no_data{fill:rgba(0,0,0,1)}#chart-10003a02-67f3-47fd-980b-9ebdee5b90f5 .title{fill:rgba(0,0,0,1)}#chart-10003a02-67f3-47fd-980b-9ebdee5b90f5 .legends .legend text{fill:rgba(0,0,0,.87)}#chart-10003a02-67f3-47fd-980b-9ebdee5b90f5 .legends .legend:hover text{fill:rgba(0,0,0,1)}#chart-10003a02-67f3-47fd-980b-9ebdee5b90f5 .axis .line{stroke:rgba(0,0,0,1)}#chart-10003a02-67f3-47fd-980b-9ebdee5b90f5 .axis .guide.line{stroke:rgba(0,0,0,.54)}#chart-10003a02-67f3-47fd-980b-9ebdee5b90f5 .axis .major.line{stroke:rgba(0,0,0,.87)}#chart-10003a02-67f3-47fd-980b-9ebdee5b90f5 .axis text.major{fill:rgba(0,0,0,1)}#chart-10003a02-67f3-47fd-980b-9ebdee5b90f5 .axis.y .guides:hover .guide.line,#chart-10003a02-67f3-47fd-980b-9ebdee5b90f5 .line-graph .axis.x .guides:hover .guide.line,#chart-10003a02-67f3-47fd-980b-9ebdee5b90f5 .stackedline-graph .axis.x .guides:hover .guide.line,#chart-10003a02-67f3-47fd-980b-9ebdee5b90f5 .xy-graph .axis.x .guides:hover .guide.line{stroke:rgba(0,0,0,1)}#chart-10003a02-67f3-47fd-980b-9ebdee5b90f5 .axis .guides:hover text{fill:rgba(0,0,0,1)}#chart-10003a02-67f3-47fd-980b-9ebdee5b90f5 .reactive{fill-opacity:.7;stroke-opacity:.8;stroke-width:1}#chart-10003a02-67f3-47fd-980b-9ebdee5b90f5 .ci{stroke:rgba(0,0,0,.87)}#chart-10003a02-67f3-47fd-980b-9ebdee5b90f5 .reactive.active,#chart-10003a02-67f3-47fd-980b-9ebdee5b90f5 .active .reactive{fill-opacity:.8;stroke-opacity:.9;stroke-width:4}#chart-10003a02-67f3-47fd-980b-9ebdee5b90f5 .ci .reactive.active{stroke-width:1.5}#chart-10003a02-67f3-47fd-980b-9ebdee5b90f5 .series text{fill:rgba(0,0,0,1)}#chart-10003a02-67f3-47fd-980b-9ebdee5b90f5 .tooltip rect{fill:rgba(255,255,255,1);stroke:rgba(0,0,0,1);-webkit-transition:opacity 150ms;-moz-transition:opacity 150ms;transition:opacity 150ms}#chart-10003a02-67f3-47fd-980b-9ebdee5b90f5 .tooltip .label{fill:rgba(0,0,0,.87)}#chart-10003a02-67f3-47fd-980b-9ebdee5b90f5 .tooltip .label{fill:rgba(0,0,0,.87)}#chart-10003a02-67f3-47fd-980b-9ebdee5b90f5 .tooltip .legend{font-size:.8em;fill:rgba(0,0,0,.54)}#chart-10003a02-67f3-47fd-980b-9ebdee5b90f5 .tooltip .x_label{font-size:.6em;fill:rgba(0,0,0,1)}#chart-10003a02-67f3-47fd-980b-9ebdee5b90f5 .tooltip .xlink{font-size:.5em;text-decoration:underline}#chart-10003a02-67f3-47fd-980b-9ebdee5b90f5 .tooltip .value{font-size:1.5em}#chart-10003a02-67f3-47fd-980b-9ebdee5b90f5 .bound{font-size:.5em}#chart-10003a02-67f3-47fd-980b-9ebdee5b90f5 .max-value{font-size:.75em;fill:rgba(0,0,0,.54)}#chart-10003a02-67f3-47fd-980b-9ebdee5b90f5 .map-element{fill:rgba(255,255,255,1);stroke:rgba(0,0,0,.54) !important}#chart-10003a02-67f3-47fd-980b-9ebdee5b90f5 .map-element .reactive{fill-opacity:inherit;stroke-opacity:inherit}#chart-10003a02-67f3-47fd-980b-9ebdee5b90f5 .color-0,#chart-10003a02-67f3-47fd-980b-9ebdee5b90f5 .color-0 a:visited{stroke:#F44336;fill:#F44336}#chart-10003a02-67f3-47fd-980b-9ebdee5b90f5 .text-overlay .color-0 text{fill:black}\n",
       "#chart-10003a02-67f3-47fd-980b-9ebdee5b90f5 text.no_data{text-anchor:middle}#chart-10003a02-67f3-47fd-980b-9ebdee5b90f5 .guide.line{fill:none}#chart-10003a02-67f3-47fd-980b-9ebdee5b90f5 .centered{text-anchor:middle}#chart-10003a02-67f3-47fd-980b-9ebdee5b90f5 .title{text-anchor:middle}#chart-10003a02-67f3-47fd-980b-9ebdee5b90f5 .legends .legend text{fill-opacity:1}#chart-10003a02-67f3-47fd-980b-9ebdee5b90f5 .axis.x text{text-anchor:middle}#chart-10003a02-67f3-47fd-980b-9ebdee5b90f5 .axis.x:not(.web) text[transform]{text-anchor:start}#chart-10003a02-67f3-47fd-980b-9ebdee5b90f5 .axis.x:not(.web) text[transform].backwards{text-anchor:end}#chart-10003a02-67f3-47fd-980b-9ebdee5b90f5 .axis.y text{text-anchor:end}#chart-10003a02-67f3-47fd-980b-9ebdee5b90f5 .axis.y text[transform].backwards{text-anchor:start}#chart-10003a02-67f3-47fd-980b-9ebdee5b90f5 .axis.y2 text{text-anchor:start}#chart-10003a02-67f3-47fd-980b-9ebdee5b90f5 .axis.y2 text[transform].backwards{text-anchor:end}#chart-10003a02-67f3-47fd-980b-9ebdee5b90f5 .axis .guide.line{stroke-dasharray:4,4;stroke:black}#chart-10003a02-67f3-47fd-980b-9ebdee5b90f5 .axis .major.guide.line{stroke-dasharray:6,6;stroke:black}#chart-10003a02-67f3-47fd-980b-9ebdee5b90f5 .horizontal .axis.y .guide.line,#chart-10003a02-67f3-47fd-980b-9ebdee5b90f5 .horizontal .axis.y2 .guide.line,#chart-10003a02-67f3-47fd-980b-9ebdee5b90f5 .vertical .axis.x .guide.line{opacity:0}#chart-10003a02-67f3-47fd-980b-9ebdee5b90f5 .horizontal .axis.always_show .guide.line,#chart-10003a02-67f3-47fd-980b-9ebdee5b90f5 .vertical .axis.always_show .guide.line{opacity:1 !important}#chart-10003a02-67f3-47fd-980b-9ebdee5b90f5 .axis.y .guides:hover .guide.line,#chart-10003a02-67f3-47fd-980b-9ebdee5b90f5 .axis.y2 .guides:hover .guide.line,#chart-10003a02-67f3-47fd-980b-9ebdee5b90f5 .axis.x .guides:hover .guide.line{opacity:1}#chart-10003a02-67f3-47fd-980b-9ebdee5b90f5 .axis .guides:hover text{opacity:1}#chart-10003a02-67f3-47fd-980b-9ebdee5b90f5 .nofill{fill:none}#chart-10003a02-67f3-47fd-980b-9ebdee5b90f5 .subtle-fill{fill-opacity:.2}#chart-10003a02-67f3-47fd-980b-9ebdee5b90f5 .dot{stroke-width:1px;fill-opacity:1;stroke-opacity:1}#chart-10003a02-67f3-47fd-980b-9ebdee5b90f5 .dot.active{stroke-width:5px}#chart-10003a02-67f3-47fd-980b-9ebdee5b90f5 .dot.negative{fill:transparent}#chart-10003a02-67f3-47fd-980b-9ebdee5b90f5 text,#chart-10003a02-67f3-47fd-980b-9ebdee5b90f5 tspan{stroke:none !important}#chart-10003a02-67f3-47fd-980b-9ebdee5b90f5 .series text.active{opacity:1}#chart-10003a02-67f3-47fd-980b-9ebdee5b90f5 .tooltip rect{fill-opacity:.95;stroke-width:.5}#chart-10003a02-67f3-47fd-980b-9ebdee5b90f5 .tooltip text{fill-opacity:1}#chart-10003a02-67f3-47fd-980b-9ebdee5b90f5 .showable{visibility:hidden}#chart-10003a02-67f3-47fd-980b-9ebdee5b90f5 .showable.shown{visibility:visible}#chart-10003a02-67f3-47fd-980b-9ebdee5b90f5 .gauge-background{fill:rgba(229,229,229,1);stroke:none}#chart-10003a02-67f3-47fd-980b-9ebdee5b90f5 .bg-lines{stroke:rgba(249,249,249,1);stroke-width:2px}</style><script type=\"text/javascript\">window.pygal = window.pygal || {};window.pygal.config = window.pygal.config || {};window.pygal.config['10003a02-67f3-47fd-980b-9ebdee5b90f5'] = {&quot;allow_interruptions&quot;: false, &quot;box_mode&quot;: &quot;extremes&quot;, &quot;classes&quot;: [&quot;pygal-chart&quot;], &quot;css&quot;: [&quot;file://style.css&quot;, &quot;file://graph.css&quot;], &quot;defs&quot;: [], &quot;disable_xml_declaration&quot;: true, &quot;dots_size&quot;: 2.5, &quot;dynamic_print_values&quot;: false, &quot;explicit_size&quot;: false, &quot;fill&quot;: false, &quot;force_uri_protocol&quot;: &quot;https&quot;, &quot;formatter&quot;: null, &quot;half_pie&quot;: false, &quot;height&quot;: 600, &quot;include_x_axis&quot;: false, &quot;inner_radius&quot;: 0, &quot;interpolate&quot;: null, &quot;interpolation_parameters&quot;: {}, &quot;interpolation_precision&quot;: 250, &quot;inverse_y_axis&quot;: false, &quot;js&quot;: [&quot;//kozea.github.io/pygal.js/2.0.x/pygal-tooltips.min.js&quot;], &quot;legend_at_bottom&quot;: false, &quot;legend_at_bottom_columns&quot;: null, &quot;legend_box_size&quot;: 12, &quot;logarithmic&quot;: false, &quot;margin&quot;: 20, &quot;margin_bottom&quot;: null, &quot;margin_left&quot;: null, &quot;margin_right&quot;: null, &quot;margin_top&quot;: null, &quot;max_scale&quot;: 16, &quot;min_scale&quot;: 4, &quot;missing_value_fill_truncation&quot;: &quot;x&quot;, &quot;no_data_text&quot;: &quot;No data&quot;, &quot;no_prefix&quot;: false, &quot;order_min&quot;: null, &quot;pretty_print&quot;: false, &quot;print_labels&quot;: false, &quot;print_values&quot;: true, &quot;print_values_position&quot;: &quot;center&quot;, &quot;print_zeroes&quot;: true, &quot;range&quot;: null, &quot;rounded_bars&quot;: null, &quot;secondary_range&quot;: null, &quot;show_dots&quot;: true, &quot;show_legend&quot;: true, &quot;show_minor_x_labels&quot;: true, &quot;show_minor_y_labels&quot;: true, &quot;show_only_major_dots&quot;: false, &quot;show_x_guides&quot;: false, &quot;show_x_labels&quot;: true, &quot;show_y_guides&quot;: true, &quot;show_y_labels&quot;: true, &quot;spacing&quot;: 10, &quot;stack_from_top&quot;: false, &quot;strict&quot;: false, &quot;stroke&quot;: true, &quot;stroke_style&quot;: null, &quot;style&quot;: {&quot;background&quot;: &quot;rgba(249, 249, 249, 1)&quot;, &quot;ci_colors&quot;: [], &quot;colors&quot;: [&quot;#F44336&quot;, &quot;#3F51B5&quot;, &quot;#009688&quot;, &quot;#FFC107&quot;, &quot;#FF5722&quot;, &quot;#9C27B0&quot;, &quot;#03A9F4&quot;, &quot;#8BC34A&quot;, &quot;#FF9800&quot;, &quot;#E91E63&quot;, &quot;#2196F3&quot;, &quot;#4CAF50&quot;, &quot;#FFEB3B&quot;, &quot;#673AB7&quot;, &quot;#00BCD4&quot;, &quot;#CDDC39&quot;, &quot;#9E9E9E&quot;, &quot;#607D8B&quot;], &quot;dot_opacity&quot;: &quot;1&quot;, &quot;font_family&quot;: &quot;Consolas, \\&quot;Liberation Mono\\&quot;, Menlo, Courier, monospace&quot;, &quot;foreground&quot;: &quot;rgba(0, 0, 0, .87)&quot;, &quot;foreground_strong&quot;: &quot;rgba(0, 0, 0, 1)&quot;, &quot;foreground_subtle&quot;: &quot;rgba(0, 0, 0, .54)&quot;, &quot;guide_stroke_color&quot;: &quot;black&quot;, &quot;guide_stroke_dasharray&quot;: &quot;4,4&quot;, &quot;label_font_family&quot;: &quot;Consolas, \\&quot;Liberation Mono\\&quot;, Menlo, Courier, monospace&quot;, &quot;label_font_size&quot;: 10, &quot;legend_font_family&quot;: &quot;Consolas, \\&quot;Liberation Mono\\&quot;, Menlo, Courier, monospace&quot;, &quot;legend_font_size&quot;: 14, &quot;major_guide_stroke_color&quot;: &quot;black&quot;, &quot;major_guide_stroke_dasharray&quot;: &quot;6,6&quot;, &quot;major_label_font_family&quot;: &quot;Consolas, \\&quot;Liberation Mono\\&quot;, Menlo, Courier, monospace&quot;, &quot;major_label_font_size&quot;: 10, &quot;no_data_font_family&quot;: &quot;Consolas, \\&quot;Liberation Mono\\&quot;, Menlo, Courier, monospace&quot;, &quot;no_data_font_size&quot;: 64, &quot;opacity&quot;: &quot;.7&quot;, &quot;opacity_hover&quot;: &quot;.8&quot;, &quot;plot_background&quot;: &quot;rgba(255, 255, 255, 1)&quot;, &quot;stroke_opacity&quot;: &quot;.8&quot;, &quot;stroke_opacity_hover&quot;: &quot;.9&quot;, &quot;stroke_width&quot;: &quot;1&quot;, &quot;stroke_width_hover&quot;: &quot;4&quot;, &quot;title_font_family&quot;: &quot;Consolas, \\&quot;Liberation Mono\\&quot;, Menlo, Courier, monospace&quot;, &quot;title_font_size&quot;: 16, &quot;tooltip_font_family&quot;: &quot;Consolas, \\&quot;Liberation Mono\\&quot;, Menlo, Courier, monospace&quot;, &quot;tooltip_font_size&quot;: 14, &quot;transition&quot;: &quot;150ms&quot;, &quot;value_background&quot;: &quot;rgba(229, 229, 229, 1)&quot;, &quot;value_colors&quot;: [], &quot;value_font_family&quot;: &quot;Consolas, \\&quot;Liberation Mono\\&quot;, Menlo, Courier, monospace&quot;, &quot;value_font_size&quot;: 16, &quot;value_label_font_family&quot;: &quot;Consolas, \\&quot;Liberation Mono\\&quot;, Menlo, Courier, monospace&quot;, &quot;value_label_font_size&quot;: 10}, &quot;title&quot;: null, &quot;tooltip_border_radius&quot;: 0, &quot;tooltip_fancy_mode&quot;: true, &quot;truncate_label&quot;: null, &quot;truncate_legend&quot;: null, &quot;width&quot;: 800, &quot;x_label_rotation&quot;: 0, &quot;x_labels&quot;: [&quot;0&quot;, &quot;1&quot;, &quot;2&quot;, &quot;3&quot;, &quot;4&quot;, &quot;5&quot;, &quot;6&quot;, &quot;7&quot;, &quot;8&quot;], &quot;x_labels_major&quot;: null, &quot;x_labels_major_count&quot;: null, &quot;x_labels_major_every&quot;: null, &quot;x_title&quot;: null, &quot;xrange&quot;: null, &quot;y_label_rotation&quot;: 0, &quot;y_labels&quot;: null, &quot;y_labels_major&quot;: null, &quot;y_labels_major_count&quot;: null, &quot;y_labels_major_every&quot;: null, &quot;y_title&quot;: null, &quot;zero&quot;: 0, &quot;legends&quot;: [&quot;Count&quot;]}</script><script type=\"text/javascript\" xlink:href=\"https://kozea.github.io/pygal.js/2.0.x/pygal-tooltips.min.js\"/></defs><title>Pygal</title><g class=\"graph bar-graph vertical\"><rect x=\"0\" y=\"0\" width=\"800\" height=\"600\" class=\"background\"/><g transform=\"translate(106, 20)\" class=\"plot\"><rect x=\"0\" y=\"0\" width=\"674.0\" height=\"540\" class=\"background\"/><g class=\"axis y always_show\"><g class=\"guides\"><path d=\"M0.000000 529.615385 h674.000000\" class=\"axis major line\"/><text x=\"-5\" y=\"533.1153846153846\" class=\"major\">0</text><title>0</title></g><g class=\"guides\"><path d=\"M0.000000 445.868486 h674.000000\" class=\"guide line\"/><text x=\"-5\" y=\"449.3684863523573\" class=\"\">10</text><title>10</title></g><g class=\"guides\"><path d=\"M0.000000 362.121588 h674.000000\" class=\"guide line\"/><text x=\"-5\" y=\"365.6215880893301\" class=\"\">20</text><title>20</title></g><g class=\"guides\"><path d=\"M0.000000 278.374690 h674.000000\" class=\"guide line\"/><text x=\"-5\" y=\"281.87468982630276\" class=\"\">30</text><title>30</title></g><g class=\"guides\"><path d=\"M0.000000 194.627792 h674.000000\" class=\"guide line\"/><text x=\"-5\" y=\"198.12779156327542\" class=\"\">40</text><title>40</title></g><g class=\"guides\"><path d=\"M0.000000 110.880893 h674.000000\" class=\"major guide line\"/><text x=\"-5\" y=\"114.38089330024815\" class=\"major\">50</text><title>50</title></g><g class=\"guides\"><path d=\"M0.000000 27.133995 h674.000000\" class=\"guide line\"/><text x=\"-5\" y=\"30.63399503722087\" class=\"\">60</text><title>60</title></g></g><g class=\"axis x\"><path d=\"M0.000000 0.000000 v540.000000\" class=\"line\"/><g class=\"guides\"><path d=\"M48.965812 0.000000 v540.000000\" class=\"axis guide line\"/><text x=\"48.965811965811966\" y=\"555.0\" class=\"\">0</text></g><g class=\"guides\"><path d=\"M120.974359 0.000000 v540.000000\" class=\"guide line\"/><text x=\"120.97435897435895\" y=\"555.0\" class=\"\">1</text></g><g class=\"guides\"><path d=\"M192.982906 0.000000 v540.000000\" class=\"guide line\"/><text x=\"192.982905982906\" y=\"555.0\" class=\"\">2</text></g><g class=\"guides\"><path d=\"M264.991453 0.000000 v540.000000\" class=\"guide line\"/><text x=\"264.991452991453\" y=\"555.0\" class=\"\">3</text></g><g class=\"guides\"><path d=\"M337.000000 0.000000 v540.000000\" class=\"guide line\"/><text x=\"337.0\" y=\"555.0\" class=\"\">4</text></g><g class=\"guides\"><path d=\"M409.008547 0.000000 v540.000000\" class=\"guide line\"/><text x=\"409.00854700854705\" y=\"555.0\" class=\"\">5</text></g><g class=\"guides\"><path d=\"M481.017094 0.000000 v540.000000\" class=\"guide line\"/><text x=\"481.017094017094\" y=\"555.0\" class=\"\">6</text></g><g class=\"guides\"><path d=\"M553.025641 0.000000 v540.000000\" class=\"guide line\"/><text x=\"553.025641025641\" y=\"555.0\" class=\"\">7</text></g><g class=\"guides\"><path d=\"M625.034188 0.000000 v540.000000\" class=\"guide line\"/><text x=\"625.034188034188\" y=\"555.0\" class=\"\">8</text></g></g><g class=\"series serie-0 color-0\"><g class=\"bars\"><g class=\"bar\"><rect x=\"21.08410256410256\" y=\"454.24317617866006\" rx=\"0\" ry=\"0\" width=\"55.76341880341881\" height=\"75.37220843672458\" class=\"rect reactive tooltip-trigger\"/><desc class=\"value\">9</desc><desc class=\"x centered\">48.965811965811966</desc><desc class=\"y centered\">491.92928039702235</desc><desc class=\"x_label\">0</desc></g><g class=\"bar\"><rect x=\"93.09264957264955\" y=\"429.11910669975185\" rx=\"0\" ry=\"0\" width=\"55.76341880341881\" height=\"100.49627791563279\" class=\"rect reactive tooltip-trigger\"/><desc class=\"value\">12</desc><desc class=\"x centered\">120.97435897435895</desc><desc class=\"y centered\">479.3672456575682</desc><desc class=\"x_label\">1</desc></g><g class=\"bar\"><rect x=\"165.10119658119655\" y=\"10.384615384615472\" rx=\"0\" ry=\"0\" width=\"55.76341880341881\" height=\"519.2307692307692\" class=\"rect reactive tooltip-trigger\"/><desc class=\"value\">62</desc><desc class=\"x centered\">192.98290598290595</desc><desc class=\"y centered\">270.00000000000006</desc><desc class=\"x_label\">2</desc></g><g class=\"bar\"><rect x=\"237.10974358974357\" y=\"487.741935483871\" rx=\"0\" ry=\"0\" width=\"55.76341880341881\" height=\"41.87344913151367\" class=\"rect reactive tooltip-trigger\"/><desc class=\"value\">5</desc><desc class=\"x centered\">264.991452991453</desc><desc class=\"y centered\">508.6786600496278</desc><desc class=\"x_label\">3</desc></g><g class=\"bar\"><rect x=\"309.1182905982906\" y=\"445.8684863523573\" rx=\"0\" ry=\"0\" width=\"55.76341880341881\" height=\"83.74689826302733\" class=\"rect reactive tooltip-trigger\"/><desc class=\"value\">10</desc><desc class=\"x centered\">337.00000000000006</desc><desc class=\"y centered\">487.741935483871</desc><desc class=\"x_label\">4</desc></g><g class=\"bar\"><rect x=\"381.1268376068376\" y=\"512.8660049627791\" rx=\"0\" ry=\"0\" width=\"55.76341880341881\" height=\"16.749379652605512\" class=\"rect reactive tooltip-trigger\"/><desc class=\"value\">2</desc><desc class=\"x centered\">409.00854700854705</desc><desc class=\"y centered\">521.2406947890819</desc><desc class=\"x_label\">5</desc></g><g class=\"bar\"><rect x=\"453.1353846153846\" y=\"136.0049627791563\" rx=\"0\" ry=\"0\" width=\"55.76341880341881\" height=\"393.61042183622834\" class=\"rect reactive tooltip-trigger\"/><desc class=\"value\">47</desc><desc class=\"x centered\">481.01709401709405</desc><desc class=\"y centered\">332.81017369727044</desc><desc class=\"x_label\">6</desc></g><g class=\"bar\"><rect x=\"525.1439316239315\" y=\"52.258064516129025\" rx=\"0\" ry=\"0\" width=\"55.76341880341881\" height=\"477.3573200992556\" class=\"rect reactive tooltip-trigger\"/><desc class=\"value\">57</desc><desc class=\"x centered\">553.0256410256409</desc><desc class=\"y centered\">290.93672456575683</desc><desc class=\"x_label\">7</desc></g><g class=\"bar\"><rect x=\"597.1524786324786\" y=\"253.25062034739454\" rx=\"0\" ry=\"0\" width=\"55.76341880341881\" height=\"276.3647642679901\" class=\"rect reactive tooltip-trigger\"/><desc class=\"value\">33</desc><desc class=\"x centered\">625.034188034188</desc><desc class=\"y centered\">391.4330024813896</desc><desc class=\"x_label\">8</desc></g></g></g></g><g class=\"titles\"/><g transform=\"translate(106, 20)\" class=\"plot overlay\"><g class=\"series serie-0 color-0\"/></g><g transform=\"translate(106, 20)\" class=\"plot text-overlay\"><g class=\"series serie-0 color-0\"><text text-anchor=\"middle\" x=\"48.965811965811966\" y=\"497.26261373035567\" class=\"value\">9</text><text text-anchor=\"middle\" x=\"120.97435897435895\" y=\"484.70057899090153\" class=\"value\">12</text><text text-anchor=\"middle\" x=\"192.98290598290595\" y=\"275.33333333333337\" class=\"value\">62</text><text text-anchor=\"middle\" x=\"264.991452991453\" y=\"514.0119933829611\" class=\"value\">5</text><text text-anchor=\"middle\" x=\"337.00000000000006\" y=\"493.0752688172043\" class=\"value\">10</text><text text-anchor=\"middle\" x=\"409.00854700854705\" y=\"526.5740281224153\" class=\"value\">2</text><text text-anchor=\"middle\" x=\"481.01709401709405\" y=\"338.14350703060376\" class=\"value\">47</text><text text-anchor=\"middle\" x=\"553.0256410256409\" y=\"296.27005789909015\" class=\"value\">57</text><text text-anchor=\"middle\" x=\"625.034188034188\" y=\"396.76633581472294\" class=\"value\">33</text></g></g><g transform=\"translate(106, 20)\" class=\"plot tooltip-overlay\"><g transform=\"translate(0 0)\" style=\"opacity: 0\" class=\"tooltip\"><rect rx=\"0\" ry=\"0\" width=\"0\" height=\"0\" class=\"tooltip-box\"/><g class=\"text\"/></g></g><g transform=\"translate(10, 30)\" class=\"legends\"><g id=\"activate-serie-0\" class=\"legend reactive activate-serie\"><rect x=\"0.0\" y=\"1.0\" width=\"12\" height=\"12\" class=\"color-0 reactive\"/><text x=\"17.0\" y=\"11.2\">Count</text></g></g><g transform=\"translate(790, 30)\" class=\"legends\"/></g></svg>"
      ],
      "text/plain": [
       "<IPython.core.display.SVG object>"
      ]
     },
     "metadata": {},
     "output_type": "display_data"
    }
   ],
   "source": [
    "import pygal\n",
    "from IPython.display import SVG, display\n",
    "chart = pygal.Bar(print_values=True)\n",
    "chart.x_labels = map(str, range(0,9))\n",
    "chart.add('Count', df_jrole_1['count'])\n",
    "#chart.render()\n",
    "display(SVG(chart.render(disable_xml_declaration=True)))"
   ]
  },
  {
   "cell_type": "markdown",
   "metadata": {},
   "source": [
    "#### Findings:\n",
    "Top three roles facing attrition\n",
    "- 26% of employees who are likely to quit belong to Laboratory Technician group\n",
    "- 24% of employees belong to Sales Executive group\n",
    "- 19% of employees belong to Research Scientist group"
   ]
  },
  {
   "cell_type": "markdown",
   "metadata": {},
   "source": [
    "### 3.3.8 Marital Status vs Attrition"
   ]
  },
  {
   "cell_type": "markdown",
   "metadata": {},
   "source": [
    "Categories:\n",
    "    1. 'Divorced': 0\n",
    "    2. 'Married' : 1\n",
    "    3. 'Single'  : 2"
   ]
  },
  {
   "cell_type": "code",
   "execution_count": 120,
   "metadata": {},
   "outputs": [
    {
     "ename": "NameError",
     "evalue": "name 'init_notebook_mode' is not defined",
     "output_type": "error",
     "traceback": [
      "\u001b[1;31m---------------------------------------------------------------------------\u001b[0m",
      "\u001b[1;31mNameError\u001b[0m                                 Traceback (most recent call last)",
      "\u001b[1;32m<ipython-input-120-3b54eddcf94e>\u001b[0m in \u001b[0;36m<module>\u001b[1;34m\u001b[0m\n\u001b[0;32m      1\u001b[0m \u001b[1;31m#analyzing employees who has positive attrition\u001b[0m\u001b[1;33m\u001b[0m\u001b[1;33m\u001b[0m\u001b[1;33m\u001b[0m\u001b[0m\n\u001b[1;32m----> 2\u001b[1;33m \u001b[0minit_notebook_mode\u001b[0m\u001b[1;33m(\u001b[0m\u001b[0mconnected\u001b[0m\u001b[1;33m=\u001b[0m\u001b[1;32mTrue\u001b[0m\u001b[1;33m)\u001b[0m\u001b[1;33m\u001b[0m\u001b[1;33m\u001b[0m\u001b[0m\n\u001b[0m\u001b[0;32m      3\u001b[0m \u001b[0mcf\u001b[0m\u001b[1;33m.\u001b[0m\u001b[0mgo_offline\u001b[0m\u001b[1;33m(\u001b[0m\u001b[1;33m)\u001b[0m\u001b[1;33m\u001b[0m\u001b[1;33m\u001b[0m\u001b[0m\n\u001b[0;32m      4\u001b[0m \u001b[0mpositive_attrition_df\u001b[0m\u001b[1;33m[\u001b[0m\u001b[1;34m'MaritalStatus'\u001b[0m\u001b[1;33m]\u001b[0m\u001b[1;33m.\u001b[0m\u001b[0mvalue_counts\u001b[0m\u001b[1;33m(\u001b[0m\u001b[1;33m)\u001b[0m\u001b[1;33m.\u001b[0m\u001b[0miplot\u001b[0m\u001b[1;33m(\u001b[0m\u001b[0mkind\u001b[0m\u001b[1;33m=\u001b[0m\u001b[1;34m'bar'\u001b[0m\u001b[1;33m)\u001b[0m\u001b[1;33m\u001b[0m\u001b[1;33m\u001b[0m\u001b[0m\n",
      "\u001b[1;31mNameError\u001b[0m: name 'init_notebook_mode' is not defined"
     ]
    }
   ],
   "source": [
    "#analyzing employees who has positive attrition\n",
    "init_notebook_mode(connected=True)\n",
    "cf.go_offline()\n",
    "positive_attrition_df['MaritalStatus'].value_counts().iplot(kind='bar')"
   ]
  },
  {
   "cell_type": "markdown",
   "metadata": {},
   "source": [
    "#### Inference:\n",
    "Nearly 50 % of the employees who are single are likely to quit"
   ]
  },
  {
   "cell_type": "markdown",
   "metadata": {},
   "source": [
    "### 3.3.9 Monthly Income vs Attrition"
   ]
  },
  {
   "cell_type": "code",
   "execution_count": 121,
   "metadata": {},
   "outputs": [
    {
     "data": {
      "text/plain": [
       "<matplotlib.legend.Legend at 0x24a0ca077c0>"
      ]
     },
     "execution_count": 121,
     "metadata": {},
     "output_type": "execute_result"
    },
    {
     "data": {
      "image/png": "[encoded data removed]",
      "text/plain": [
       "<Figure size 504x504 with 1 Axes>"
      ]
     },
     "metadata": {
      "needs_background": "light"
     },
     "output_type": "display_data"
    }
   ],
   "source": [
    "sns.distplot(negative_attrition_df['MonthlyIncome'], label='Negative attrition')\n",
    "sns.distplot(positive_attrition_df['MonthlyIncome'], label='positive attrition')\n",
    "plt.legend()"
   ]
  },
  {
   "cell_type": "markdown",
   "metadata": {},
   "source": [
    "Inference:\n",
    "    Looks like people who are less likely to leave the company are the ones who are less paid."
   ]
  },
  {
   "cell_type": "markdown",
   "metadata": {},
   "source": [
    "## 4. Model Development"
   ]
  },
  {
   "cell_type": "markdown",
   "metadata": {},
   "source": [
    "## 4.1 Extracting label from input data"
   ]
  },
  {
   "cell_type": "code",
   "execution_count": 122,
   "metadata": {},
   "outputs": [],
   "source": [
    "input_data = data_encoded.drop(['Attrition'], axis=1)"
   ]
  },
  {
   "cell_type": "code",
   "execution_count": 123,
   "metadata": {},
   "outputs": [
    {
     "data": {
      "text/html": [
       "<div>\n",
       "<style scoped>\n",
       "    .dataframe tbody tr th:only-of-type {\n",
       "        vertical-align: middle;\n",
       "    }\n",
       "\n",
       "    .dataframe tbody tr th {\n",
       "        vertical-align: top;\n",
       "    }\n",
       "\n",
       "    .dataframe thead th {\n",
       "        text-align: right;\n",
       "    }\n",
       "</style>\n",
       "<table border=\"1\" class=\"dataframe\">\n",
       "  <thead>\n",
       "    <tr style=\"text-align: right;\">\n",
       "      <th></th>\n",
       "      <th>Age</th>\n",
       "      <th>BusinessTravel</th>\n",
       "      <th>Department</th>\n",
       "      <th>DistanceFromHome</th>\n",
       "      <th>Education</th>\n",
       "      <th>EnvironmentSatisfaction</th>\n",
       "      <th>Gender</th>\n",
       "      <th>JobInvolvement</th>\n",
       "      <th>JobLevel</th>\n",
       "      <th>JobRole</th>\n",
       "      <th>...</th>\n",
       "      <th>PercentSalaryHike</th>\n",
       "      <th>PerformanceRating</th>\n",
       "      <th>StockOptionLevel</th>\n",
       "      <th>TotalWorkingYears</th>\n",
       "      <th>TrainingTimesLastYear</th>\n",
       "      <th>WorkLifeBalance</th>\n",
       "      <th>YearsAtCompany</th>\n",
       "      <th>YearsInCurrentRole</th>\n",
       "      <th>YearsSinceLastPromotion</th>\n",
       "      <th>YearsWithCurrManager</th>\n",
       "    </tr>\n",
       "  </thead>\n",
       "  <tbody>\n",
       "    <tr>\n",
       "      <th>0</th>\n",
       "      <td>41</td>\n",
       "      <td>2</td>\n",
       "      <td>2</td>\n",
       "      <td>1</td>\n",
       "      <td>2</td>\n",
       "      <td>2</td>\n",
       "      <td>0</td>\n",
       "      <td>3</td>\n",
       "      <td>2</td>\n",
       "      <td>7</td>\n",
       "      <td>...</td>\n",
       "      <td>11</td>\n",
       "      <td>3</td>\n",
       "      <td>0</td>\n",
       "      <td>8</td>\n",
       "      <td>0</td>\n",
       "      <td>1</td>\n",
       "      <td>6</td>\n",
       "      <td>4</td>\n",
       "      <td>0</td>\n",
       "      <td>5</td>\n",
       "    </tr>\n",
       "    <tr>\n",
       "      <th>1</th>\n",
       "      <td>49</td>\n",
       "      <td>1</td>\n",
       "      <td>1</td>\n",
       "      <td>8</td>\n",
       "      <td>1</td>\n",
       "      <td>3</td>\n",
       "      <td>1</td>\n",
       "      <td>2</td>\n",
       "      <td>2</td>\n",
       "      <td>6</td>\n",
       "      <td>...</td>\n",
       "      <td>23</td>\n",
       "      <td>4</td>\n",
       "      <td>1</td>\n",
       "      <td>10</td>\n",
       "      <td>3</td>\n",
       "      <td>3</td>\n",
       "      <td>10</td>\n",
       "      <td>7</td>\n",
       "      <td>1</td>\n",
       "      <td>7</td>\n",
       "    </tr>\n",
       "    <tr>\n",
       "      <th>2</th>\n",
       "      <td>37</td>\n",
       "      <td>2</td>\n",
       "      <td>1</td>\n",
       "      <td>2</td>\n",
       "      <td>2</td>\n",
       "      <td>4</td>\n",
       "      <td>1</td>\n",
       "      <td>2</td>\n",
       "      <td>1</td>\n",
       "      <td>2</td>\n",
       "      <td>...</td>\n",
       "      <td>15</td>\n",
       "      <td>3</td>\n",
       "      <td>0</td>\n",
       "      <td>7</td>\n",
       "      <td>3</td>\n",
       "      <td>3</td>\n",
       "      <td>0</td>\n",
       "      <td>0</td>\n",
       "      <td>0</td>\n",
       "      <td>0</td>\n",
       "    </tr>\n",
       "    <tr>\n",
       "      <th>3</th>\n",
       "      <td>33</td>\n",
       "      <td>1</td>\n",
       "      <td>1</td>\n",
       "      <td>3</td>\n",
       "      <td>4</td>\n",
       "      <td>4</td>\n",
       "      <td>0</td>\n",
       "      <td>3</td>\n",
       "      <td>1</td>\n",
       "      <td>6</td>\n",
       "      <td>...</td>\n",
       "      <td>11</td>\n",
       "      <td>3</td>\n",
       "      <td>0</td>\n",
       "      <td>8</td>\n",
       "      <td>3</td>\n",
       "      <td>3</td>\n",
       "      <td>8</td>\n",
       "      <td>7</td>\n",
       "      <td>3</td>\n",
       "      <td>0</td>\n",
       "    </tr>\n",
       "    <tr>\n",
       "      <th>4</th>\n",
       "      <td>27</td>\n",
       "      <td>2</td>\n",
       "      <td>1</td>\n",
       "      <td>2</td>\n",
       "      <td>1</td>\n",
       "      <td>1</td>\n",
       "      <td>1</td>\n",
       "      <td>3</td>\n",
       "      <td>1</td>\n",
       "      <td>2</td>\n",
       "      <td>...</td>\n",
       "      <td>12</td>\n",
       "      <td>3</td>\n",
       "      <td>1</td>\n",
       "      <td>6</td>\n",
       "      <td>3</td>\n",
       "      <td>3</td>\n",
       "      <td>2</td>\n",
       "      <td>2</td>\n",
       "      <td>2</td>\n",
       "      <td>2</td>\n",
       "    </tr>\n",
       "  </tbody>\n",
       "</table>\n",
       "<p>5 rows × 25 columns</p>\n",
       "</div>"
      ],
      "text/plain": [
       "   Age  BusinessTravel  Department  DistanceFromHome  Education  \\\n",
       "0   41               2           2                 1          2   \n",
       "1   49               1           1                 8          1   \n",
       "2   37               2           1                 2          2   \n",
       "3   33               1           1                 3          4   \n",
       "4   27               2           1                 2          1   \n",
       "\n",
       "   EnvironmentSatisfaction  Gender  JobInvolvement  JobLevel  JobRole  ...  \\\n",
       "0                        2       0               3         2        7  ...   \n",
       "1                        3       1               2         2        6  ...   \n",
       "2                        4       1               2         1        2  ...   \n",
       "3                        4       0               3         1        6  ...   \n",
       "4                        1       1               3         1        2  ...   \n",
       "\n",
       "   PercentSalaryHike  PerformanceRating  StockOptionLevel  TotalWorkingYears  \\\n",
       "0                 11                  3                 0                  8   \n",
       "1                 23                  4                 1                 10   \n",
       "2                 15                  3                 0                  7   \n",
       "3                 11                  3                 0                  8   \n",
       "4                 12                  3                 1                  6   \n",
       "\n",
       "   TrainingTimesLastYear  WorkLifeBalance  YearsAtCompany  YearsInCurrentRole  \\\n",
       "0                      0                1               6                   4   \n",
       "1                      3                3              10                   7   \n",
       "2                      3                3               0                   0   \n",
       "3                      3                3               8                   7   \n",
       "4                      3                3               2                   2   \n",
       "\n",
       "   YearsSinceLastPromotion  YearsWithCurrManager  \n",
       "0                        0                     5  \n",
       "1                        1                     7  \n",
       "2                        0                     0  \n",
       "3                        3                     0  \n",
       "4                        2                     2  \n",
       "\n",
       "[5 rows x 25 columns]"
      ]
     },
     "execution_count": 123,
     "metadata": {},
     "output_type": "execute_result"
    }
   ],
   "source": [
    "input_data.head()"
   ]
  },
  {
   "cell_type": "code",
   "execution_count": 124,
   "metadata": {},
   "outputs": [],
   "source": [
    "target_data = data_encoded[['Attrition']]"
   ]
  },
  {
   "cell_type": "code",
   "execution_count": 125,
   "metadata": {},
   "outputs": [
    {
     "data": {
      "text/html": [
       "<div>\n",
       "<style scoped>\n",
       "    .dataframe tbody tr th:only-of-type {\n",
       "        vertical-align: middle;\n",
       "    }\n",
       "\n",
       "    .dataframe tbody tr th {\n",
       "        vertical-align: top;\n",
       "    }\n",
       "\n",
       "    .dataframe thead th {\n",
       "        text-align: right;\n",
       "    }\n",
       "</style>\n",
       "<table border=\"1\" class=\"dataframe\">\n",
       "  <thead>\n",
       "    <tr style=\"text-align: right;\">\n",
       "      <th></th>\n",
       "      <th>Attrition</th>\n",
       "    </tr>\n",
       "  </thead>\n",
       "  <tbody>\n",
       "    <tr>\n",
       "      <th>0</th>\n",
       "      <td>1</td>\n",
       "    </tr>\n",
       "    <tr>\n",
       "      <th>1</th>\n",
       "      <td>0</td>\n",
       "    </tr>\n",
       "    <tr>\n",
       "      <th>2</th>\n",
       "      <td>1</td>\n",
       "    </tr>\n",
       "    <tr>\n",
       "      <th>3</th>\n",
       "      <td>0</td>\n",
       "    </tr>\n",
       "    <tr>\n",
       "      <th>4</th>\n",
       "      <td>0</td>\n",
       "    </tr>\n",
       "  </tbody>\n",
       "</table>\n",
       "</div>"
      ],
      "text/plain": [
       "   Attrition\n",
       "0          1\n",
       "1          0\n",
       "2          1\n",
       "3          0\n",
       "4          0"
      ]
     },
     "execution_count": 125,
     "metadata": {},
     "output_type": "execute_result"
    }
   ],
   "source": [
    "target_data.head()"
   ]
  },
  {
   "cell_type": "code",
   "execution_count": 126,
   "metadata": {},
   "outputs": [
    {
     "data": {
      "text/plain": [
       "25"
      ]
     },
     "execution_count": 126,
     "metadata": {},
     "output_type": "execute_result"
    }
   ],
   "source": [
    "len(input_data.columns)"
   ]
  },
  {
   "cell_type": "markdown",
   "metadata": {},
   "source": [
    "## 4.2 Feature Selection"
   ]
  },
  {
   "cell_type": "markdown",
   "metadata": {},
   "source": [
    "It is the process of choosing the best features that can be used in the predictive modeling. \n",
    "\n",
    "1. Fight against the curse of dimensionality.\n",
    "2. Reduce the overall training time.\n",
    "3. Defense against overfitting.\n",
    "4. Increase model generalizability.\n",
    "\n",
    "Some of the feature selection methods are,\n",
    "1. Filter methods\n",
    "   - F Test\n",
    "   - Mutual information\n",
    "   - Variance threshold\n",
    "   - Chi Square\n",
    "   - Correlation coefficient \n",
    "   - ANNOVA\n",
    "   - LDA\n",
    "2. Wrapper methods\n",
    "   - Forward search\n",
    "   - Backward selection\n",
    "   - Recursive feature elimination\n",
    "3. Embedded methods\n",
    "   - LASSO Linear Regression"
   ]
  },
  {
   "cell_type": "code",
   "execution_count": 127,
   "metadata": {},
   "outputs": [
    {
     "data": {
      "text/plain": [
       "Index(['Age', 'BusinessTravel', 'Department', 'DistanceFromHome', 'Education',\n",
       "       'EnvironmentSatisfaction', 'Gender', 'JobInvolvement', 'JobLevel',\n",
       "       'JobRole', 'JobSatisfaction', 'MaritalStatus', 'MonthlyIncome',\n",
       "       'NumCompaniesWorked', 'OverTime', 'PercentSalaryHike',\n",
       "       'PerformanceRating', 'StockOptionLevel', 'TotalWorkingYears',\n",
       "       'TrainingTimesLastYear', 'WorkLifeBalance', 'YearsAtCompany',\n",
       "       'YearsInCurrentRole', 'YearsSinceLastPromotion',\n",
       "       'YearsWithCurrManager'],\n",
       "      dtype='object')"
      ]
     },
     "execution_count": 127,
     "metadata": {},
     "output_type": "execute_result"
    }
   ],
   "source": [
    "input_data.columns"
   ]
  },
  {
   "cell_type": "code",
   "execution_count": 128,
   "metadata": {},
   "outputs": [],
   "source": [
    "col_values = list(input_data.columns.values)"
   ]
  },
  {
   "cell_type": "markdown",
   "metadata": {},
   "source": [
    "#### Mutual Information\n",
    "It measures the dependence of one variable to another. If,\n",
    "\n",
    "* Mutual information is 0, then variable X carries no information about the variable Y. X and Y are independent.\n",
    "* Mutual information is 1, then variable X can be determined from variable Y. X and Y are dependent.\n",
    "\n",
    "Features can be selected based on their mutual information value."
   ]
  },
  {
   "cell_type": "code",
   "execution_count": 129,
   "metadata": {},
   "outputs": [
    {
     "name": "stdout",
     "output_type": "stream",
     "text": [
      "JobRole 0.042689974751346504\n",
      "Age 0.03839835190610352\n",
      "MonthlyIncome 0.03139949296199629\n",
      "StockOptionLevel 0.028065889097465657\n",
      "YearsWithCurrManager 0.023099571614338288\n",
      "JobLevel 0.021580339520346214\n",
      "PercentSalaryHike 0.02011419204436571\n",
      "TotalWorkingYears 0.017376840745060074\n",
      "YearsAtCompany 0.016863728808653056\n",
      "OverTime 0.010780626557495232\n"
     ]
    }
   ],
   "source": [
    "#gives top 10 features having maximum mutual information value\n",
    "from sklearn.feature_selection import mutual_info_classif\n",
    "feature_scores = mutual_info_classif(input_data, target_data)\n",
    "for score, fname in sorted(zip(feature_scores, col_values), reverse=True)[:10]:\n",
    "    print(fname, score)"
   ]
  },
  {
   "cell_type": "markdown",
   "metadata": {},
   "source": [
    "#### chi-square\n",
    "\n",
    "chi-square test is applied to test the independence of two events. This method is used to evaluate the likelihood of correlation or association between features using their frequency distribution. This works best with categorial features."
   ]
  },
  {
   "cell_type": "code",
   "execution_count": 130,
   "metadata": {},
   "outputs": [
    {
     "name": "stdout",
     "output_type": "stream",
     "text": [
      "MonthlyIncome 127922.29369381821\n",
      "TotalWorkingYears 230.72161773754925\n",
      "YearsAtCompany 142.10005430324915\n",
      "YearsInCurrentRole 117.5225958913567\n",
      "YearsWithCurrManager 110.6715338985734\n",
      "Age 84.15527681001525\n",
      "OverTime 63.84506671452294\n",
      "DistanceFromHome 63.77214163101213\n",
      "StockOptionLevel 25.26882603175403\n",
      "JobLevel 24.93924234571862\n"
     ]
    }
   ],
   "source": [
    "#gives top 10 features having maximum chi-square value\n",
    "from sklearn.feature_selection import chi2\n",
    "feature_scores = chi2(input_data, target_data)[0]\n",
    "for score, fname in sorted(zip(feature_scores, col_values), reverse=True)[:10]:\n",
    "    print(fname, score)"
   ]
  },
  {
   "cell_type": "code",
   "execution_count": 131,
   "metadata": {},
   "outputs": [
    {
     "data": {
      "text/plain": [
       "(1470, 26)"
      ]
     },
     "execution_count": 131,
     "metadata": {},
     "output_type": "execute_result"
    }
   ],
   "source": [
    "df.shape"
   ]
  },
  {
   "cell_type": "code",
   "execution_count": 132,
   "metadata": {},
   "outputs": [],
   "source": [
    "#column selection based on feature selection \n",
    "data_selected = df[['MonthlyIncome', 'TotalWorkingYears', 'YearsAtCompany', 'YearsInCurrentRole', \n",
    "                      'YearsWithCurrManager', 'Age', 'OverTime', 'DistanceFromHome', 'StockOptionLevel',\n",
    "                      'JobLevel', 'JobRole', 'WorkLifeBalance', 'Gender', 'Attrition']]"
   ]
  },
  {
   "cell_type": "code",
   "execution_count": 133,
   "metadata": {},
   "outputs": [
    {
     "data": {
      "text/html": [
       "<div>\n",
       "<style scoped>\n",
       "    .dataframe tbody tr th:only-of-type {\n",
       "        vertical-align: middle;\n",
       "    }\n",
       "\n",
       "    .dataframe tbody tr th {\n",
       "        vertical-align: top;\n",
       "    }\n",
       "\n",
       "    .dataframe thead th {\n",
       "        text-align: right;\n",
       "    }\n",
       "</style>\n",
       "<table border=\"1\" class=\"dataframe\">\n",
       "  <thead>\n",
       "    <tr style=\"text-align: right;\">\n",
       "      <th></th>\n",
       "      <th>MonthlyIncome</th>\n",
       "      <th>TotalWorkingYears</th>\n",
       "      <th>YearsAtCompany</th>\n",
       "      <th>YearsInCurrentRole</th>\n",
       "      <th>YearsWithCurrManager</th>\n",
       "      <th>Age</th>\n",
       "      <th>OverTime</th>\n",
       "      <th>DistanceFromHome</th>\n",
       "      <th>StockOptionLevel</th>\n",
       "      <th>JobLevel</th>\n",
       "      <th>JobRole</th>\n",
       "      <th>WorkLifeBalance</th>\n",
       "      <th>Gender</th>\n",
       "      <th>Attrition</th>\n",
       "    </tr>\n",
       "  </thead>\n",
       "  <tbody>\n",
       "    <tr>\n",
       "      <th>0</th>\n",
       "      <td>5993</td>\n",
       "      <td>8</td>\n",
       "      <td>6</td>\n",
       "      <td>4</td>\n",
       "      <td>5</td>\n",
       "      <td>41</td>\n",
       "      <td>Yes</td>\n",
       "      <td>1</td>\n",
       "      <td>0</td>\n",
       "      <td>2</td>\n",
       "      <td>Sales Executive</td>\n",
       "      <td>1</td>\n",
       "      <td>Female</td>\n",
       "      <td>Yes</td>\n",
       "    </tr>\n",
       "    <tr>\n",
       "      <th>1</th>\n",
       "      <td>5130</td>\n",
       "      <td>10</td>\n",
       "      <td>10</td>\n",
       "      <td>7</td>\n",
       "      <td>7</td>\n",
       "      <td>49</td>\n",
       "      <td>No</td>\n",
       "      <td>8</td>\n",
       "      <td>1</td>\n",
       "      <td>2</td>\n",
       "      <td>Research Scientist</td>\n",
       "      <td>3</td>\n",
       "      <td>Male</td>\n",
       "      <td>No</td>\n",
       "    </tr>\n",
       "    <tr>\n",
       "      <th>2</th>\n",
       "      <td>2090</td>\n",
       "      <td>7</td>\n",
       "      <td>0</td>\n",
       "      <td>0</td>\n",
       "      <td>0</td>\n",
       "      <td>37</td>\n",
       "      <td>Yes</td>\n",
       "      <td>2</td>\n",
       "      <td>0</td>\n",
       "      <td>1</td>\n",
       "      <td>Laboratory Technician</td>\n",
       "      <td>3</td>\n",
       "      <td>Male</td>\n",
       "      <td>Yes</td>\n",
       "    </tr>\n",
       "    <tr>\n",
       "      <th>3</th>\n",
       "      <td>2909</td>\n",
       "      <td>8</td>\n",
       "      <td>8</td>\n",
       "      <td>7</td>\n",
       "      <td>0</td>\n",
       "      <td>33</td>\n",
       "      <td>Yes</td>\n",
       "      <td>3</td>\n",
       "      <td>0</td>\n",
       "      <td>1</td>\n",
       "      <td>Research Scientist</td>\n",
       "      <td>3</td>\n",
       "      <td>Female</td>\n",
       "      <td>No</td>\n",
       "    </tr>\n",
       "    <tr>\n",
       "      <th>4</th>\n",
       "      <td>3468</td>\n",
       "      <td>6</td>\n",
       "      <td>2</td>\n",
       "      <td>2</td>\n",
       "      <td>2</td>\n",
       "      <td>27</td>\n",
       "      <td>No</td>\n",
       "      <td>2</td>\n",
       "      <td>1</td>\n",
       "      <td>1</td>\n",
       "      <td>Laboratory Technician</td>\n",
       "      <td>3</td>\n",
       "      <td>Male</td>\n",
       "      <td>No</td>\n",
       "    </tr>\n",
       "  </tbody>\n",
       "</table>\n",
       "</div>"
      ],
      "text/plain": [
       "   MonthlyIncome  TotalWorkingYears  YearsAtCompany  YearsInCurrentRole  \\\n",
       "0           5993                  8               6                   4   \n",
       "1           5130                 10              10                   7   \n",
       "2           2090                  7               0                   0   \n",
       "3           2909                  8               8                   7   \n",
       "4           3468                  6               2                   2   \n",
       "\n",
       "   YearsWithCurrManager  Age OverTime  DistanceFromHome  StockOptionLevel  \\\n",
       "0                     5   41      Yes                 1                 0   \n",
       "1                     7   49       No                 8                 1   \n",
       "2                     0   37      Yes                 2                 0   \n",
       "3                     0   33      Yes                 3                 0   \n",
       "4                     2   27       No                 2                 1   \n",
       "\n",
       "   JobLevel                JobRole  WorkLifeBalance  Gender Attrition  \n",
       "0         2        Sales Executive                1  Female       Yes  \n",
       "1         2     Research Scientist                3    Male        No  \n",
       "2         1  Laboratory Technician                3    Male       Yes  \n",
       "3         1     Research Scientist                3  Female        No  \n",
       "4         1  Laboratory Technician                3    Male        No  "
      ]
     },
     "execution_count": 133,
     "metadata": {},
     "output_type": "execute_result"
    }
   ],
   "source": [
    "data_selected.head()"
   ]
  },
  {
   "cell_type": "code",
   "execution_count": 134,
   "metadata": {},
   "outputs": [
    {
     "data": {
      "text/plain": [
       "14"
      ]
     },
     "execution_count": 134,
     "metadata": {},
     "output_type": "execute_result"
    }
   ],
   "source": [
    "len(data_selected.columns)"
   ]
  },
  {
   "cell_type": "code",
   "execution_count": 135,
   "metadata": {},
   "outputs": [
    {
     "data": {
      "text/plain": [
       "(1470, 14)"
      ]
     },
     "execution_count": 135,
     "metadata": {},
     "output_type": "execute_result"
    }
   ],
   "source": [
    "data_selected.shape"
   ]
  },
  {
   "cell_type": "code",
   "execution_count": 136,
   "metadata": {},
   "outputs": [],
   "source": [
    "#encoding labels\n",
    "data_selected.loc[data_selected.Attrition == 'No', 'Attrition'] = 0\n",
    "data_selected.loc[data_selected.Attrition == 'Yes', 'Attrition'] = 1"
   ]
  },
  {
   "cell_type": "code",
   "execution_count": 137,
   "metadata": {},
   "outputs": [
    {
     "data": {
      "text/html": [
       "<div>\n",
       "<style scoped>\n",
       "    .dataframe tbody tr th:only-of-type {\n",
       "        vertical-align: middle;\n",
       "    }\n",
       "\n",
       "    .dataframe tbody tr th {\n",
       "        vertical-align: top;\n",
       "    }\n",
       "\n",
       "    .dataframe thead th {\n",
       "        text-align: right;\n",
       "    }\n",
       "</style>\n",
       "<table border=\"1\" class=\"dataframe\">\n",
       "  <thead>\n",
       "    <tr style=\"text-align: right;\">\n",
       "      <th></th>\n",
       "      <th>MonthlyIncome</th>\n",
       "      <th>TotalWorkingYears</th>\n",
       "      <th>YearsAtCompany</th>\n",
       "      <th>YearsInCurrentRole</th>\n",
       "      <th>YearsWithCurrManager</th>\n",
       "      <th>Age</th>\n",
       "      <th>OverTime</th>\n",
       "      <th>DistanceFromHome</th>\n",
       "      <th>StockOptionLevel</th>\n",
       "      <th>JobLevel</th>\n",
       "      <th>JobRole</th>\n",
       "      <th>WorkLifeBalance</th>\n",
       "      <th>Gender</th>\n",
       "      <th>Attrition</th>\n",
       "    </tr>\n",
       "  </thead>\n",
       "  <tbody>\n",
       "    <tr>\n",
       "      <th>0</th>\n",
       "      <td>5993</td>\n",
       "      <td>8</td>\n",
       "      <td>6</td>\n",
       "      <td>4</td>\n",
       "      <td>5</td>\n",
       "      <td>41</td>\n",
       "      <td>Yes</td>\n",
       "      <td>1</td>\n",
       "      <td>0</td>\n",
       "      <td>2</td>\n",
       "      <td>Sales Executive</td>\n",
       "      <td>1</td>\n",
       "      <td>Female</td>\n",
       "      <td>1</td>\n",
       "    </tr>\n",
       "    <tr>\n",
       "      <th>1</th>\n",
       "      <td>5130</td>\n",
       "      <td>10</td>\n",
       "      <td>10</td>\n",
       "      <td>7</td>\n",
       "      <td>7</td>\n",
       "      <td>49</td>\n",
       "      <td>No</td>\n",
       "      <td>8</td>\n",
       "      <td>1</td>\n",
       "      <td>2</td>\n",
       "      <td>Research Scientist</td>\n",
       "      <td>3</td>\n",
       "      <td>Male</td>\n",
       "      <td>0</td>\n",
       "    </tr>\n",
       "    <tr>\n",
       "      <th>2</th>\n",
       "      <td>2090</td>\n",
       "      <td>7</td>\n",
       "      <td>0</td>\n",
       "      <td>0</td>\n",
       "      <td>0</td>\n",
       "      <td>37</td>\n",
       "      <td>Yes</td>\n",
       "      <td>2</td>\n",
       "      <td>0</td>\n",
       "      <td>1</td>\n",
       "      <td>Laboratory Technician</td>\n",
       "      <td>3</td>\n",
       "      <td>Male</td>\n",
       "      <td>1</td>\n",
       "    </tr>\n",
       "    <tr>\n",
       "      <th>3</th>\n",
       "      <td>2909</td>\n",
       "      <td>8</td>\n",
       "      <td>8</td>\n",
       "      <td>7</td>\n",
       "      <td>0</td>\n",
       "      <td>33</td>\n",
       "      <td>Yes</td>\n",
       "      <td>3</td>\n",
       "      <td>0</td>\n",
       "      <td>1</td>\n",
       "      <td>Research Scientist</td>\n",
       "      <td>3</td>\n",
       "      <td>Female</td>\n",
       "      <td>0</td>\n",
       "    </tr>\n",
       "    <tr>\n",
       "      <th>4</th>\n",
       "      <td>3468</td>\n",
       "      <td>6</td>\n",
       "      <td>2</td>\n",
       "      <td>2</td>\n",
       "      <td>2</td>\n",
       "      <td>27</td>\n",
       "      <td>No</td>\n",
       "      <td>2</td>\n",
       "      <td>1</td>\n",
       "      <td>1</td>\n",
       "      <td>Laboratory Technician</td>\n",
       "      <td>3</td>\n",
       "      <td>Male</td>\n",
       "      <td>0</td>\n",
       "    </tr>\n",
       "  </tbody>\n",
       "</table>\n",
       "</div>"
      ],
      "text/plain": [
       "   MonthlyIncome  TotalWorkingYears  YearsAtCompany  YearsInCurrentRole  \\\n",
       "0           5993                  8               6                   4   \n",
       "1           5130                 10              10                   7   \n",
       "2           2090                  7               0                   0   \n",
       "3           2909                  8               8                   7   \n",
       "4           3468                  6               2                   2   \n",
       "\n",
       "   YearsWithCurrManager  Age OverTime  DistanceFromHome  StockOptionLevel  \\\n",
       "0                     5   41      Yes                 1                 0   \n",
       "1                     7   49       No                 8                 1   \n",
       "2                     0   37      Yes                 2                 0   \n",
       "3                     0   33      Yes                 3                 0   \n",
       "4                     2   27       No                 2                 1   \n",
       "\n",
       "   JobLevel                JobRole  WorkLifeBalance  Gender Attrition  \n",
       "0         2        Sales Executive                1  Female         1  \n",
       "1         2     Research Scientist                3    Male         0  \n",
       "2         1  Laboratory Technician                3    Male         1  \n",
       "3         1     Research Scientist                3  Female         0  \n",
       "4         1  Laboratory Technician                3    Male         0  "
      ]
     },
     "execution_count": 137,
     "metadata": {},
     "output_type": "execute_result"
    }
   ],
   "source": [
    "data_selected.head()"
   ]
  },
  {
   "cell_type": "code",
   "execution_count": 138,
   "metadata": {},
   "outputs": [],
   "source": [
    "input_data = data_selected.drop(['Attrition'], axis=1)\n",
    "target_data = data_selected[['Attrition']]"
   ]
  },
  {
   "cell_type": "code",
   "execution_count": 139,
   "metadata": {},
   "outputs": [
    {
     "data": {
      "text/plain": [
       "(1470, 14)"
      ]
     },
     "execution_count": 139,
     "metadata": {},
     "output_type": "execute_result"
    }
   ],
   "source": [
    "data_selected.shape"
   ]
  },
  {
   "cell_type": "markdown",
   "metadata": {},
   "source": [
    "#### Get Train, Validation and test data"
   ]
  },
  {
   "cell_type": "code",
   "execution_count": 140,
   "metadata": {},
   "outputs": [
    {
     "name": "stdout",
     "output_type": "stream",
     "text": [
      "Shape of the input data is  (1269, 14)\n"
     ]
    },
    {
     "data": {
      "text/plain": [
       "0    1061\n",
       "1     208\n",
       "Name: Attrition, dtype: int64"
      ]
     },
     "execution_count": 140,
     "metadata": {},
     "output_type": "execute_result"
    }
   ],
   "source": [
    "input_data = data_selected[0:1269]\n",
    "print('Shape of the input data is ', input_data.shape)\n",
    "input_data['Attrition'].value_counts()"
   ]
  },
  {
   "cell_type": "code",
   "execution_count": 156,
   "metadata": {},
   "outputs": [
    {
     "name": "stdout",
     "output_type": "stream",
     "text": [
      "Shape of the validation data is  (200, 14)\n",
      "Shape of the validation input data is  (200, 13)\n",
      "Shape of the validation target data is  (200, 1)\n"
     ]
    }
   ],
   "source": [
    "validation_data = data_selected[1269:1469]\n",
    "print('Shape of the validation data is ', validation_data.shape)\n",
    "validation_input_data = validation_data.drop(['Attrition'], axis=1)\n",
    "print('Shape of the validation input data is ', validation_input_data.shape)\n",
    "validation_target_data = validation_data[['Attrition']]\n",
    "print('Shape of the validation target data is ', validation_target_data.shape)"
   ]
  },
  {
   "cell_type": "code",
   "execution_count": 157,
   "metadata": {},
   "outputs": [
    {
     "name": "stdout",
     "output_type": "stream",
     "text": [
      "      MonthlyIncome  TotalWorkingYears  YearsAtCompany  YearsInCurrentRole  \\\n",
      "1469           4404                  6               4                   3   \n",
      "\n",
      "      YearsWithCurrManager  Age OverTime  DistanceFromHome  StockOptionLevel  \\\n",
      "1469                     2   34       No                 8                 0   \n",
      "\n",
      "      JobLevel                JobRole  WorkLifeBalance Gender Attrition  \n",
      "1469         2  Laboratory Technician                4   Male         0  \n",
      "Shape of the test data is  (1, 14)\n",
      "Shape of the test input data is  (1, 13)\n",
      "Shape of the test target data is  (1, 1)\n"
     ]
    }
   ],
   "source": [
    "#Using 1 sample as test data to check deployment\n",
    "test_data = data_selected[1469:]\n",
    "print(test_data)\n",
    "print('Shape of the test data is ', test_data.shape)\n",
    "test_input_data = test_data.drop(['Attrition'], axis=1)\n",
    "print('Shape of the test input data is ', test_input_data.shape)\n",
    "test_target_data = test_data[['Attrition']]\n",
    "print('Shape of the test target data is ', test_target_data.shape)"
   ]
  },
  {
   "cell_type": "code",
   "execution_count": null,
   "metadata": {},
   "outputs": [],
   "source": []
  }
 ],
 "metadata": {
  "gist": {
   "data": {
    "description": "Desktop/MAX_Demo_Files/Data_Science_Pipeline_Demo.ipynb",
    "public": false
   },
   "id": ""
  },
  "kernelspec": {
   "display_name": "Python 3",
   "language": "python",
   "name": "python3"
  },
  "language_info": {
   "codemirror_mode": {
    "name": "ipython",
    "version": 3
   },
   "file_extension": ".py",
   "mimetype": "text/x-python",
   "name": "python",
   "nbconvert_exporter": "python",
   "pygments_lexer": "ipython3",
   "version": "3.8.8"
  }
 },
 "nbformat": 4,
 "nbformat_minor": 2
}
